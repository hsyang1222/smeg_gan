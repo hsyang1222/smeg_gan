{
 "cells": [
  {
   "cell_type": "code",
   "execution_count": 4,
   "id": "bc70c61e",
   "metadata": {},
   "outputs": [
    {
     "data": {
      "text/plain": [
       "torch.Size([100])"
      ]
     },
     "execution_count": 4,
     "metadata": {},
     "output_type": "execute_result"
    }
   ],
   "source": []
  },
  {
   "cell_type": "code",
   "execution_count": 1,
   "id": "e8b89725",
   "metadata": {},
   "outputs": [
    {
     "name": "stderr",
     "output_type": "stream",
     "text": [
      "Using cache found in /root/.cache/torch/hub/pytorch_vision_v0.9.0\n"
     ]
    }
   ],
   "source": [
    "import generative_model_score\n",
    "inception_model_score = generative_model_score.GenerativeModelScore()"
   ]
  },
  {
   "cell_type": "code",
   "execution_count": 1,
   "id": "d0c011dc",
   "metadata": {},
   "outputs": [],
   "source": [
    "\n",
    "import itertools\n",
    "import numpy as np\n",
    "import torch\n",
    "import torch.nn as nn\n",
    "import torchvision\n",
    "from torchvision import transforms\n",
    "from torch.autograd import Variable\n",
    "import os\n",
    "import wandb\n",
    "import argparse\n",
    "import tqdm\n",
    "from dataset import *\n",
    "\n",
    "from train import *\n",
    "from models import *\n",
    "from utils import *\n",
    "import hashlib\n",
    "\n",
    "import easydict"
   ]
  },
  {
   "cell_type": "code",
   "execution_count": null,
   "id": "7e76b55e-3ad8-44f5-ae49-a2245c981d36",
   "metadata": {},
   "outputs": [],
   "source": []
  },
  {
   "cell_type": "code",
   "execution_count": 52,
   "id": "87d80f99-9ff7-4994-8ae2-9a7e87dcd36c",
   "metadata": {},
   "outputs": [
    {
     "name": "stdout",
     "output_type": "stream",
     "text": [
      "8 8 16 512\n",
      "Generator(\n",
      "  (main): ModuleList(\n",
      "    (0): Sequential(\n",
      "      (0): ConvTranspose2d(100, 512, kernel_size=(2, 2), stride=(1, 1), bias=False)\n",
      "      (1): BatchNorm2d(512, eps=1e-05, momentum=0.1, affine=True, track_running_stats=True)\n",
      "      (2): LeakyReLU(negative_slope=0.2, inplace=True)\n",
      "    )\n",
      "    (1): ConvTranspose2d(512, 256, kernel_size=(4, 4), stride=(2, 2), padding=(1, 1))\n",
      "    (2): BatchNorm2d(256, eps=1e-05, momentum=0.1, affine=True, track_running_stats=True)\n",
      "    (3): LeakyReLU(negative_slope=0.2, inplace=True)\n",
      "    (4): ConvTranspose2d(256, 128, kernel_size=(4, 4), stride=(2, 2), padding=(1, 1))\n",
      "    (5): BatchNorm2d(128, eps=1e-05, momentum=0.1, affine=True, track_running_stats=True)\n",
      "    (6): LeakyReLU(negative_slope=0.2, inplace=True)\n",
      "    (7): ConvTranspose2d(128, 64, kernel_size=(4, 4), stride=(2, 2), padding=(1, 1))\n",
      "    (8): BatchNorm2d(64, eps=1e-05, momentum=0.1, affine=True, track_running_stats=True)\n",
      "    (9): LeakyReLU(negative_slope=0.2, inplace=True)\n",
      "    (10): ConvTranspose2d(64, 32, kernel_size=(4, 4), stride=(2, 2), padding=(1, 1))\n",
      "    (11): BatchNorm2d(32, eps=1e-05, momentum=0.1, affine=True, track_running_stats=True)\n",
      "    (12): LeakyReLU(negative_slope=0.2, inplace=True)\n",
      "    (13): ConvTranspose2d(32, 16, kernel_size=(4, 4), stride=(2, 2), padding=(1, 1))\n",
      "    (14): BatchNorm2d(16, eps=1e-05, momentum=0.1, affine=True, track_running_stats=True)\n",
      "    (15): LeakyReLU(negative_slope=0.2, inplace=True)\n",
      "    (16): ConvTranspose2d(16, 8, kernel_size=(4, 4), stride=(2, 2), padding=(1, 1))\n",
      "    (17): BatchNorm2d(8, eps=1e-05, momentum=0.1, affine=True, track_running_stats=True)\n",
      "    (18): LeakyReLU(negative_slope=0.2, inplace=True)\n",
      "    (19): ConvTranspose2d(8, 3, kernel_size=(4, 4), stride=(2, 2), padding=(1, 1))\n",
      "  )\n",
      ")\n"
     ]
    }
   ],
   "source": [
    "import imp\n",
    "import models\n",
    "import torch\n",
    "imp.reload(models)\n",
    "\n",
    "img_size=256\n",
    "\n",
    "#netD=models.Discriminator(1, nz=100, ndf=8, ngf=8, nc=3, img_size=img_size)\n",
    "#print(netD)\n",
    "\n",
    "#netG=models.Generator(1, nz=100, ndf=8, ngf=8, nc=3, img_size=img_size)\n",
    "#print(netG)"
   ]
  },
  {
   "cell_type": "code",
   "execution_count": 8,
   "id": "d3ce8095-d847-4dbf-98c9-4b165e82df16",
   "metadata": {},
   "outputs": [
    {
     "name": "stdout",
     "output_type": "stream",
     "text": [
      "torch.Size([1, 1])\n"
     ]
    }
   ],
   "source": [
    "print(netD(torch.randn(1,3,img_size,img_size)).shape)"
   ]
  },
  {
   "cell_type": "code",
   "execution_count": null,
   "id": "65a1df82-4d14-4adf-94e6-3acdaba64f2e",
   "metadata": {},
   "outputs": [],
   "source": []
  },
  {
   "cell_type": "code",
   "execution_count": null,
   "id": "b04fe429-583d-4395-a496-0f80c488857e",
   "metadata": {},
   "outputs": [],
   "source": []
  },
  {
   "cell_type": "code",
   "execution_count": null,
   "id": "cbb50d2e-908b-4bd4-a1dc-9f671fe83813",
   "metadata": {},
   "outputs": [],
   "source": []
  },
  {
   "cell_type": "code",
   "execution_count": null,
   "id": "cd1f9d51",
   "metadata": {},
   "outputs": [],
   "source": []
  },
  {
   "cell_type": "code",
   "execution_count": 3,
   "id": "2f74db31",
   "metadata": {},
   "outputs": [
    {
     "name": "stderr",
     "output_type": "stream",
     "text": [
      "Using cache found in /root/.cache/torch/hub/pytorch_vision_v0.9.0\n"
     ]
    }
   ],
   "source": [
    "import main"
   ]
  },
  {
   "cell_type": "code",
   "execution_count": 12,
   "id": "154ba66e",
   "metadata": {},
   "outputs": [],
   "source": [
    "args = easydict.EasyDict({\n",
    "    'device' : 'cuda:1',\n",
    "    'epochs' : 100,\n",
    "    'batch_size' : 64,\n",
    "    'img_size' : 128,\n",
    "    'save_image_interval' : 5,\n",
    "    'nz': 100,\n",
    "    'ngf' : 64,\n",
    "    'ndf' : 64, \n",
    "    'beta1' : 0.5,\n",
    "    'latent_layer' : 3,\n",
    "    'latent_dim' : 10,\n",
    "    'n_iter' : 3,\n",
    "    'project_name' : 'smeg_gan compare',\n",
    "    'dataset' : 'FFHQ',\n",
    "    'base_model' : 'dcgan',\n",
    "    'n_critic' : 5,\n",
    "    'clip_value' : 0.01,\n",
    "    'AE_iter' : 10,\n",
    "    'smeg_gan' : True,\n",
    "    'lr' : 1e-4,\n",
    "    'run_test' : False,\n",
    "    'dis_step' : True,\n",
    "    'dis_layer':8,\n",
    "    'wandb' : True,\n",
    "    'sample_img_num' : 16,\n",
    "    'force_gen_real_info' : False,\n",
    "    'add_z_min' : 1e-4,\n",
    "    'ae_end_conj' : False,\n",
    "    'ae_end_diffloss' : 1e-2,\n",
    "    'use_plain_alpha' : True\n",
    "})"
   ]
  },
  {
   "cell_type": "code",
   "execution_count": 13,
   "id": "39801486",
   "metadata": {
    "scrolled": true
   },
   "outputs": [
    {
     "name": "stderr",
     "output_type": "stream",
     "text": [
      "Failed to detect the name of this notebook, you can set it manually with the WANDB_NOTEBOOK_NAME environment variable to enable code saving.\n",
      "\u001b[34m\u001b[1mwandb\u001b[0m: Currently logged in as: \u001b[33mhsyang1222\u001b[0m (use `wandb login --relogin` to force relogin)\n",
      "\u001b[34m\u001b[1mwandb\u001b[0m: wandb version 0.12.4 is available!  To upgrade, please run:\n",
      "\u001b[34m\u001b[1mwandb\u001b[0m:  $ pip install wandb --upgrade\n"
     ]
    },
    {
     "data": {
      "text/html": [
       "\n",
       "                    Syncing run <strong><a href=\"https://wandb.ai/hsyang1222/smeg_gan%20compare/runs/16882y1m\" target=\"_blank\">FFHQ,dcgan,128, smeg</a></strong> to <a href=\"https://wandb.ai/hsyang1222/smeg_gan%20compare\" target=\"_blank\">Weights & Biases</a> (<a href=\"https://docs.wandb.com/integrations/jupyter.html\" target=\"_blank\">docs</a>).<br/>\n",
       "\n",
       "                "
      ],
      "text/plain": [
       "<IPython.core.display.HTML object>"
      ]
     },
     "metadata": {},
     "output_type": "display_data"
    },
    {
     "name": "stdout",
     "output_type": "stream",
     "text": [
      "Using generated real image info.\n",
      "Dataset ImageFolder\n",
      "    Number of datapoints: 70000\n",
      "    Root location: ../../dataset/FFHQ/\n",
      "    StandardTransform\n",
      "Transform: Compose(\n",
      "               Resize(size=(128, 128), interpolation=bilinear)\n",
      "               CenterCrop(size=(128, 128))\n",
      "               ToTensor()\n",
      "               Normalize(mean=(0.5, 0.5, 0.5), std=(0.5, 0.5, 0.5))\n",
      "           )\n"
     ]
    }
   ],
   "source": [
    "global inception_model_score\n",
    "\n",
    "# load real images info or generate real images info\n",
    "#torch.cuda.set_device(device=args.device)\n",
    "device = args.device\n",
    "epochs = args.epochs\n",
    "batch_size = args.batch_size\n",
    "img_size = args.img_size\n",
    "save_image_interval = args.save_image_interval\n",
    "latent_dim = args.latent_dim\n",
    "project_name = args.project_name\n",
    "dataset = args.dataset\n",
    "basemodel = args.base_model\n",
    "AE_iter = args.AE_iter\n",
    "smeg_gan = args.smeg_gan\n",
    "nz = args.nz\n",
    "ngf = args.ngf\n",
    "ndf = args.ndf\n",
    "\n",
    "lr = args.lr\n",
    "n_iter = args.n_iter\n",
    "latent_layer = args.latent_layer\n",
    "\n",
    "image_shape = [3, img_size, img_size]\n",
    "\n",
    "wandb_name = dataset+','+basemodel+','+str(img_size)\n",
    "if args.run_test : wandb_name += ', test run'\n",
    "if args.smeg_gan : wandb_name +=', smeg'\n",
    "if args.wandb : \n",
    "    wandb.login()\n",
    "    wandb.init(project=project_name, \n",
    "               config=args,\n",
    "               name = wandb_name)\n",
    "    config = wandb.config\n",
    "\n",
    "ngpu = 1\n",
    "'''\n",
    "customize\n",
    "'''\n",
    "\n",
    "\n",
    "###########################################\n",
    "#####              Score              #####\n",
    "###########################################\n",
    "inception_model_score.lazy_mode(True)\n",
    "\n",
    "\n",
    "'''\n",
    "dataset 채워주세요!\n",
    "customize\n",
    "'''\n",
    "if dataset == 'CelebA':\n",
    "    train_loader = get_celebA_dataset(batch_size, img_size)\n",
    "elif dataset == 'FFHQ':\n",
    "    train_loader, test_loader = get_ffhq_thumbnails(batch_size, img_size)\n",
    "elif dataset == 'mnist':\n",
    "    train_loader = get_mnist_dataset(batch_size, img_size)\n",
    "elif dataset == 'mnist_fashion':\n",
    "    train_loader = get_mnist_fashion_dataset(batch_size, img_size)\n",
    "elif dataset == 'emnist':\n",
    "    train_loader = get_emnist_dataset(batch_size, img_size)\n",
    "elif dataset == 'LSUN_dining_room':\n",
    "    #wget http://dl.yf.io/lsun/scenes/dining_room_train_lmdb.zip\n",
    "    #unzip dining_room_train_lmdb.zip\n",
    "    #located dining_room_train_lmdb folder in dataset directory\n",
    "    train_loader = get_lsun_dataset(batch_size, img_size, classes='dining_room_train')\n",
    "elif dataset == 'LSUN_classroom':\n",
    "    #wget http://dl.yf.io/lsun/scenes/classroom_train_lmdb.zip\n",
    "    #unzip classroom_train_lmdb.zip\n",
    "    #located classroom_train_lmdb folder in dataset directory\n",
    "    train_loader = get_lsun_dataset(batch_size, img_size, classes='classroom_train')\n",
    "elif dataset == 'LSUN_conference':\n",
    "    #wget http://dl.yf.io/lsun/scenes/conference_room_train_lmdb.zip\n",
    "    #unzip conference_room_train_lmdb.zip\n",
    "    #located conference_room_train_lmdb folder in dataset directory\n",
    "    train_loader = get_lsun_dataset(batch_size, img_size, classes='conference_room_train')\n",
    "elif dataset == 'LSUN_churches':\n",
    "    #wget http://dl.yf.io/lsun/scenes/church_outdoor_train_lmdb.zip\n",
    "    #unzip church_outdoor_train_lmdb.zip\n",
    "    #located church_outdoor_train_lmdb folder in dataset directory\n",
    "    train_loader = get_lsun_dataset(batch_size, img_size, classes='church_outdoor_train')\n",
    "else:\n",
    "    if dataset != 'cifar10' : \n",
    "        print(\"dataset is forced selected to cifar10\")\n",
    "    train_loader = get_cifar1_dataset(batch_size, img_size)\n",
    "\n",
    "\n",
    "real_images_info_file_name = hashlib.md5(str(train_loader.dataset).encode()).hexdigest()+'.pickle'\n",
    "if args.run_test : real_images_info_file_name += '.run_test' \n",
    "\n",
    "os.makedirs('../../inception_model_info', exist_ok=True)\n",
    "if os.path.exists('../../inception_model_info/' + real_images_info_file_name) and not args.force_gen_real_info: \n",
    "    print(\"Using generated real image info.\")\n",
    "    print(train_loader.dataset)\n",
    "    inception_model_score.load_real_images_info('../../inception_model_info/' + real_images_info_file_name)\n",
    "\n",
    "else : \n",
    "    inception_model_score.model_to(device)\n",
    "\n",
    "    #put real image\n",
    "    for each_batch in tqdm.tqdm(train_loader, desc='insert real dataset') : \n",
    "        X_train_batch = each_batch[0]\n",
    "        inception_model_score.put_real(X_train_batch)\n",
    "        if args.run_test : break\n",
    "\n",
    "    #generate real images info\n",
    "    inception_model_score.lazy_forward(batch_size=64, device=device, real_forward=True)\n",
    "    inception_model_score.calculate_real_image_statistics()\n",
    "    #save real images info for next experiments\n",
    "    inception_model_score.save_real_images_info('../../inception_model_info/' + real_images_info_file_name)\n",
    "    #offload inception_model\n",
    "    inception_model_score.model_to('cpu')\n",
    "\n",
    "\n",
    "criterion = nn.BCELoss()\n",
    "mse = nn.MSELoss()\n",
    "\n",
    "real_label = 1\n",
    "fake_label = 0\n",
    "\n",
    "# setup optimizer\n",
    "\n",
    "\n",
    "loss_log = {}\n",
    "\n",
    "loss_ae = 0.\n"
   ]
  },
  {
   "cell_type": "code",
   "execution_count": null,
   "id": "18b56a48",
   "metadata": {},
   "outputs": [],
   "source": []
  },
  {
   "cell_type": "code",
   "execution_count": 14,
   "id": "f92396cb",
   "metadata": {},
   "outputs": [
    {
     "name": "stdout",
     "output_type": "stream",
     "text": [
      "8\n",
      "8\n"
     ]
    }
   ],
   "source": [
    "netG = Generator(ngpu, nz, ndf, ngf, nc=3, img_size=args.img_size).to(device)\n",
    "netD = Discriminator(ngpu, nz, ndf, ngf, nc=3, img_size=args.img_size).to(device)\n",
    "\n",
    "\n",
    "if smeg_gan : \n",
    "    netE = Encoder(ngpu, nz, ndf, ngf, nc=3, img_size=args.img_size).to(device)\n",
    "else : \n",
    "    netE = None\n",
    "\n",
    "\n",
    "if args.ae_end_conj or AE_iter > 0 :\n",
    "    optimizerG = torch.optim.Adam(netG.parameters(), lr=args.lr, betas=(args.beta1, 0.999), weight_decay=args.lr )\n",
    "    optimizerE = torch.optim.Adam(netE.parameters(), lr=args.lr, betas=(args.beta1, 0.999), weight_decay=args.lr )\n",
    "    optimizerD = torch.optim.Adam(netD.parameters(), lr=args.lr, betas=(args.beta1, 0.999), weight_decay=args.lr )"
   ]
  },
  {
   "cell_type": "code",
   "execution_count": null,
   "id": "abff6caa",
   "metadata": {},
   "outputs": [
    {
     "name": "stderr",
     "output_type": "stream",
     "text": [
      "ISNet gen info::  37%|███▋      | 404/1094 [01:02<01:49,  6.31it/s]"
     ]
    }
   ],
   "source": [
    "i=0\n",
    "sma=0\n",
    "wandb_update(wandb, args, i, inception_model_score, netE, netG, netD, train_loader, nz, device, sma, loss_log, force_metric=True)"
   ]
  },
  {
   "cell_type": "code",
   "execution_count": 15,
   "id": "33e41ea9",
   "metadata": {},
   "outputs": [
    {
     "data": {
      "text/plain": [
       "torch.Size([70000, 3, 32, 32])"
      ]
     },
     "execution_count": 15,
     "metadata": {},
     "output_type": "execute_result"
    }
   ],
   "source": [
    "inception_model_score.fake_images.shape"
   ]
  },
  {
   "cell_type": "code",
   "execution_count": 16,
   "id": "368c2105",
   "metadata": {},
   "outputs": [],
   "source": [
    "optimizerD = torch.optim.Adam(netD.parameters(), lr=args.lr, betas=(args.beta1, 0.999))\n",
    "optimizerG = torch.optim.Adam(netG.parameters(), lr=args.lr, betas=(args.beta1, 0.999))\n",
    "if netE is not None :\n",
    "    optimizerE = torch.optim.Adam(netE.parameters(), lr=args.lr, betas=(args.beta1, 0.999))\n",
    "\n",
    "if basemodel == 'wgan' : \n",
    "    optimizerD = torch.optim.RMSprop(netD.parameters(), lr=args.lr)\n",
    "    optimizerG = torch.optim.RMSprop(netG.parameters(), lr=args.lr)\n",
    "    if netE is not None :\n",
    "        optimizerE = torch.optim.RMSprop(netE.parameters(), lr=args.lr)\n",
    "\n",
    "\n",
    "\n",
    "\n",
    "mul_alpha = torch.tensor([-5.0], requires_grad=True, device=device)        \n",
    "if args.use_plain_alpha : \n",
    "    mul_alpha = torch.tensor([args.add_z_min], device=device)+0.1\n",
    "optimizerM = torch.optim.SGD([mul_alpha], lr=0.001) \n",
    "loss_alpha = (-1.,-1.)\n",
    "lossE = 0.\n",
    "if not smeg_gan : \n",
    "    sma = 1.\n",
    "\n",
    "if netE is not None : \n",
    "    real_cuda = next(iter(train_loader))[0].to(device)\n",
    "    with torch.no_grad() :\n",
    "        real_latent_4dim = netE(real_cuda).view(real_cuda.size(0), -1)\n",
    "    fixed_noise = real_latent_4dim.detach().cpu()\n",
    "else : \n",
    "    fixed_noise = torch.rand(batch_size, nz)"
   ]
  },
  {
   "cell_type": "code",
   "execution_count": 17,
   "id": "642adbb0",
   "metadata": {
    "scrolled": true
   },
   "outputs": [
    {
     "name": "stderr",
     "output_type": "stream",
     "text": [
      "Train[0/100]: 100%|██████████| 25/25 [00:19<00:00,  1.31it/s]\n",
      "\u001b[34m\u001b[1mwandb\u001b[0m: \u001b[33mWARNING\u001b[0m Step must only increase in log calls.  Step 0 < 5; dropping {'up d - output_fake': tensor(0.0292, device='cuda:1', grad_fn=<MeanBackward0>), 'up d - output_repaint': tensor(0.0292, device='cuda:1', grad_fn=<MeanBackward0>), 'up d - dis_loss in update d': tensor(-5.0399e-05, device='cuda:1', grad_fn=<AddBackward0>), 'up d - sma': tensor([0.1002], device='cuda:1'), 'up g - output_fake': tensor(0.0249, device='cuda:1', grad_fn=<MeanBackward0>), 'up g - diff': tensor(0.0078, device='cuda:1', grad_fn=<MeanBackward0>), 'up g - sma': tensor([0.1002], device='cuda:1'), 'ck stop - output_real': tensor(-0.0207, device='cuda:1'), 'ck stop - output_repaint': tensor(0.0320, device='cuda:1')}.\n",
      "Train[1/100]: 100%|██████████| 25/25 [00:19<00:00,  1.31it/s]\n",
      "\u001b[34m\u001b[1mwandb\u001b[0m: \u001b[33mWARNING\u001b[0m Step must only increase in log calls.  Step 1 < 5; dropping {'up d - output_fake': tensor(0.0354, device='cuda:1', grad_fn=<MeanBackward0>), 'up d - output_repaint': tensor(0.0356, device='cuda:1', grad_fn=<MeanBackward0>), 'up d - dis_loss in update d': tensor(-0.0001, device='cuda:1', grad_fn=<AddBackward0>), 'up d - sma': tensor([0.1003], device='cuda:1'), 'up g - output_fake': tensor(0.0255, device='cuda:1', grad_fn=<MeanBackward0>), 'up g - diff': tensor(0.0061, device='cuda:1', grad_fn=<MeanBackward0>), 'up g - sma': tensor([0.1003], device='cuda:1'), 'ck stop - output_real': tensor(-0.0444, device='cuda:1'), 'ck stop - output_repaint': tensor(0.0324, device='cuda:1')}.\n",
      "Train[2/100]: 100%|██████████| 25/25 [00:19<00:00,  1.31it/s]\n",
      "\u001b[34m\u001b[1mwandb\u001b[0m: \u001b[33mWARNING\u001b[0m Step must only increase in log calls.  Step 2 < 5; dropping {'up d - output_fake': tensor(0.0304, device='cuda:1', grad_fn=<MeanBackward0>), 'up d - output_repaint': tensor(0.0305, device='cuda:1', grad_fn=<MeanBackward0>), 'up d - dis_loss in update d': tensor(-9.7182e-05, device='cuda:1', grad_fn=<AddBackward0>), 'up d - sma': tensor([0.1004], device='cuda:1'), 'up g - output_fake': tensor(0.0231, device='cuda:1', grad_fn=<MeanBackward0>), 'up g - diff': tensor(0.0055, device='cuda:1', grad_fn=<MeanBackward0>), 'up g - sma': tensor([0.1004], device='cuda:1'), 'ck stop - output_real': tensor(-0.0495, device='cuda:1'), 'ck stop - output_repaint': tensor(0.0321, device='cuda:1')}.\n",
      "Train[3/100]: 100%|██████████| 25/25 [00:19<00:00,  1.30it/s]\n",
      "\u001b[34m\u001b[1mwandb\u001b[0m: \u001b[33mWARNING\u001b[0m Step must only increase in log calls.  Step 3 < 5; dropping {'up d - output_fake': tensor(0.0307, device='cuda:1', grad_fn=<MeanBackward0>), 'up d - output_repaint': tensor(0.0308, device='cuda:1', grad_fn=<MeanBackward0>), 'up d - dis_loss in update d': tensor(-9.5868e-05, device='cuda:1', grad_fn=<AddBackward0>), 'up d - sma': tensor([0.1005], device='cuda:1'), 'up g - output_fake': tensor(0.0332, device='cuda:1', grad_fn=<MeanBackward0>), 'up g - diff': tensor(0.0051, device='cuda:1', grad_fn=<MeanBackward0>), 'up g - sma': tensor([0.1005], device='cuda:1'), 'ck stop - output_real': tensor(-0.0509, device='cuda:1'), 'ck stop - output_repaint': tensor(0.0377, device='cuda:1')}.\n",
      "Train[4/100]: 100%|██████████| 25/25 [00:19<00:00,  1.30it/s]\n",
      "\u001b[34m\u001b[1mwandb\u001b[0m: \u001b[33mWARNING\u001b[0m Step must only increase in log calls.  Step 4 < 5; dropping {'up d - output_fake': tensor(0.0428, device='cuda:1', grad_fn=<MeanBackward0>), 'up d - output_repaint': tensor(0.0429, device='cuda:1', grad_fn=<MeanBackward0>), 'up d - dis_loss in update d': tensor(-4.9178e-05, device='cuda:1', grad_fn=<AddBackward0>), 'up d - sma': tensor([0.1006], device='cuda:1'), 'up g - output_fake': tensor(0.0363, device='cuda:1', grad_fn=<MeanBackward0>), 'up g - diff': tensor(0.0053, device='cuda:1', grad_fn=<MeanBackward0>), 'up g - sma': tensor([0.1006], device='cuda:1'), 'ck stop - output_real': tensor(-0.0474, device='cuda:1'), 'ck stop - output_repaint': tensor(0.0443, device='cuda:1')}.\n",
      "Train[5/100]: 100%|██████████| 25/25 [00:19<00:00,  1.30it/s]\n",
      "Train[6/100]: 100%|██████████| 25/25 [00:19<00:00,  1.31it/s]\n",
      "Train[7/100]: 100%|██████████| 25/25 [00:19<00:00,  1.31it/s]\n",
      "Train[8/100]:  16%|█▌        | 4/25 [00:03<00:19,  1.08it/s]\n"
     ]
    },
    {
     "ename": "KeyboardInterrupt",
     "evalue": "",
     "output_type": "error",
     "traceback": [
      "\u001b[0;31m---------------------------------------------------------------------------\u001b[0m",
      "\u001b[0;31mKeyboardInterrupt\u001b[0m                         Traceback (most recent call last)",
      "\u001b[0;32m<ipython-input-17-57ff37b5d993>\u001b[0m in \u001b[0;36m<module>\u001b[0;34m\u001b[0m\n\u001b[1;32m      7\u001b[0m     \u001b[0;32mfor\u001b[0m \u001b[0mimage\u001b[0m\u001b[0;34m,\u001b[0m \u001b[0mlabel\u001b[0m \u001b[0;32min\u001b[0m \u001b[0mtqdm\u001b[0m\u001b[0;34m.\u001b[0m\u001b[0mtqdm\u001b[0m\u001b[0;34m(\u001b[0m\u001b[0mtrain_loader\u001b[0m\u001b[0;34m,\u001b[0m \u001b[0mdesc\u001b[0m\u001b[0;34m=\u001b[0m\u001b[0;34m'Train[%d/%d]'\u001b[0m \u001b[0;34m%\u001b[0m\u001b[0;34m(\u001b[0m\u001b[0mi\u001b[0m\u001b[0;34m,\u001b[0m \u001b[0mepochs\u001b[0m\u001b[0;34m)\u001b[0m\u001b[0;34m)\u001b[0m\u001b[0;34m:\u001b[0m\u001b[0;34m\u001b[0m\u001b[0;34m\u001b[0m\u001b[0m\n\u001b[1;32m      8\u001b[0m         \u001b[0mbatch_count\u001b[0m \u001b[0;34m+=\u001b[0m \u001b[0;36m1\u001b[0m\u001b[0;34m\u001b[0m\u001b[0;34m\u001b[0m\u001b[0m\n\u001b[0;32m----> 9\u001b[0;31m         \u001b[0mreal_cuda\u001b[0m \u001b[0;34m=\u001b[0m \u001b[0mimage\u001b[0m\u001b[0;34m.\u001b[0m\u001b[0mto\u001b[0m\u001b[0;34m(\u001b[0m\u001b[0mdevice\u001b[0m\u001b[0;34m)\u001b[0m\u001b[0;34m\u001b[0m\u001b[0;34m\u001b[0m\u001b[0m\n\u001b[0m\u001b[1;32m     10\u001b[0m \u001b[0;34m\u001b[0m\u001b[0m\n\u001b[1;32m     11\u001b[0m         \u001b[0mlog_d\u001b[0m \u001b[0;34m=\u001b[0m \u001b[0mwcgan_smeg_rp_update_rp_discriminator\u001b[0m\u001b[0;34m(\u001b[0m\u001b[0mnetE\u001b[0m\u001b[0;34m,\u001b[0m \u001b[0mnetG\u001b[0m\u001b[0;34m,\u001b[0m \u001b[0mnetD\u001b[0m\u001b[0;34m,\u001b[0m \u001b[0moptimizerD\u001b[0m\u001b[0;34m,\u001b[0m \u001b[0mreal_cuda\u001b[0m\u001b[0;34m,\u001b[0m \u001b[0mnz\u001b[0m\u001b[0;34m,\u001b[0m \u001b[0msma\u001b[0m\u001b[0;34m,\u001b[0m \u001b[0mclip_value\u001b[0m\u001b[0;34m=\u001b[0m\u001b[0margs\u001b[0m\u001b[0;34m.\u001b[0m\u001b[0mclip_value\u001b[0m\u001b[0;34m)\u001b[0m\u001b[0;34m\u001b[0m\u001b[0;34m\u001b[0m\u001b[0m\n",
      "\u001b[0;31mKeyboardInterrupt\u001b[0m: "
     ]
    }
   ],
   "source": [
    "#repaint phase\n",
    "\n",
    "for i in range(0, epochs):\n",
    "    batch_count = 0\n",
    "    log = {}\n",
    "    sma = mul_alpha\n",
    "    for image, label in tqdm.tqdm(train_loader, desc='Train[%d/%d]' %(i, epochs)):\n",
    "        batch_count += 1\n",
    "        real_cuda = image.to(device)\n",
    "\n",
    "        log_d = wcgan_smeg_rp_update_rp_discriminator(netE, netG, netD, optimizerD, real_cuda, nz, sma, clip_value=args.clip_value)\n",
    "        log_g = wcgan_smeg_rp_update_rp_generator(netE, netG, netD, optimizerD, real_cuda, nz, sma, clip_value=args.clip_value, diff_hyper=1e-4)\n",
    "        \n",
    "    timetoup_alpha, log_s = wgan_smeg_rp_check_repaintgan_stop(train_loader, netE, netG, netD, device)\n",
    "    if timetoup_alpha : \n",
    "        mul_alpha += args.add_z_min\n",
    "        \n",
    "    log.update(log_d)\n",
    "    log.update(log_g)\n",
    "    log.update(log_s)\n",
    "    wandb.log(log, step=i)"
   ]
  },
  {
   "cell_type": "code",
   "execution_count": null,
   "id": "c53632d9",
   "metadata": {},
   "outputs": [],
   "source": []
  },
  {
   "cell_type": "code",
   "execution_count": null,
   "id": "90599d05",
   "metadata": {},
   "outputs": [],
   "source": []
  },
  {
   "cell_type": "code",
   "execution_count": 21,
   "id": "73e4e8eb",
   "metadata": {},
   "outputs": [
    {
     "name": "stderr",
     "output_type": "stream",
     "text": [
      "Train[0/100]:   4%|▍         | 1/25 [00:00<00:19,  1.21it/s]"
     ]
    },
    {
     "name": "stdout",
     "output_type": "stream",
     "text": [
      "0 1 {'output_real in update d': tensor(0.0092, device='cuda:0', grad_fn=<MeanBackward0>), 'output_fake in update d': tensor(0.0092, device='cuda:0', grad_fn=<MeanBackward0>), 'dis_loss in update d': tensor(-9.3132e-10, device='cuda:0', grad_fn=<AddBackward0>), 'sma in update d': tensor([0.0002], device='cuda:0', grad_fn=<AddBackward0>)}\n"
     ]
    },
    {
     "name": "stderr",
     "output_type": "stream",
     "text": [
      "Train[0/100]:   8%|▊         | 2/25 [00:01<00:17,  1.30it/s]"
     ]
    },
    {
     "name": "stdout",
     "output_type": "stream",
     "text": [
      "0 2 {'output_real in update d': tensor(0.0092, device='cuda:0', grad_fn=<MeanBackward0>), 'output_fake in update d': tensor(0.0092, device='cuda:0', grad_fn=<MeanBackward0>), 'dis_loss in update d': tensor(-1.8626e-09, device='cuda:0', grad_fn=<AddBackward0>), 'sma in update d': tensor([0.0002], device='cuda:0', grad_fn=<AddBackward0>)}\n"
     ]
    },
    {
     "name": "stderr",
     "output_type": "stream",
     "text": [
      "Train[0/100]:  12%|█▏        | 3/25 [00:02<00:16,  1.33it/s]"
     ]
    },
    {
     "name": "stdout",
     "output_type": "stream",
     "text": [
      "0 3 {'output_real in update d': tensor(0.0092, device='cuda:0', grad_fn=<MeanBackward0>), 'output_fake in update d': tensor(0.0092, device='cuda:0', grad_fn=<MeanBackward0>), 'dis_loss in update d': tensor(-9.3132e-10, device='cuda:0', grad_fn=<AddBackward0>), 'sma in update d': tensor([0.0002], device='cuda:0', grad_fn=<AddBackward0>)}\n"
     ]
    },
    {
     "name": "stderr",
     "output_type": "stream",
     "text": [
      "Train[0/100]:  16%|█▌        | 4/25 [00:03<00:15,  1.34it/s]"
     ]
    },
    {
     "name": "stdout",
     "output_type": "stream",
     "text": [
      "0 4 {'output_real in update d': tensor(0.0092, device='cuda:0', grad_fn=<MeanBackward0>), 'output_fake in update d': tensor(0.0092, device='cuda:0', grad_fn=<MeanBackward0>), 'dis_loss in update d': tensor(9.3132e-10, device='cuda:0', grad_fn=<AddBackward0>), 'sma in update d': tensor([0.0002], device='cuda:0', grad_fn=<AddBackward0>)}\n"
     ]
    },
    {
     "name": "stderr",
     "output_type": "stream",
     "text": [
      "Train[0/100]:  20%|██        | 5/25 [00:03<00:14,  1.35it/s]"
     ]
    },
    {
     "name": "stdout",
     "output_type": "stream",
     "text": [
      "0 5 {'output_real in update d': tensor(0.0092, device='cuda:0', grad_fn=<MeanBackward0>), 'output_fake in update d': tensor(0.0092, device='cuda:0', grad_fn=<MeanBackward0>), 'dis_loss in update d': tensor(9.3132e-10, device='cuda:0', grad_fn=<AddBackward0>), 'sma in update d': tensor([0.0002], device='cuda:0', grad_fn=<AddBackward0>)}\n",
      "0 6 "
     ]
    },
    {
     "name": "stderr",
     "output_type": "stream",
     "text": [
      "Train[0/100]:  24%|██▍       | 6/25 [00:04<00:14,  1.35it/s]"
     ]
    },
    {
     "name": "stdout",
     "output_type": "stream",
     "text": [
      "{'output_real in update d': tensor(0.0092, device='cuda:0', grad_fn=<MeanBackward0>), 'output_fake in update d': tensor(0.0092, device='cuda:0', grad_fn=<MeanBackward0>), 'dis_loss in update d': tensor(-1.8626e-09, device='cuda:0', grad_fn=<AddBackward0>), 'sma in update d': tensor([0.0002], device='cuda:0', grad_fn=<AddBackward0>)}\n"
     ]
    },
    {
     "name": "stderr",
     "output_type": "stream",
     "text": [
      "Train[0/100]:  28%|██▊       | 7/25 [00:05<00:13,  1.35it/s]"
     ]
    },
    {
     "name": "stdout",
     "output_type": "stream",
     "text": [
      "0 7 {'output_real in update d': tensor(0.0092, device='cuda:0', grad_fn=<MeanBackward0>), 'output_fake in update d': tensor(0.0092, device='cuda:0', grad_fn=<MeanBackward0>), 'dis_loss in update d': tensor(-1.8626e-09, device='cuda:0', grad_fn=<AddBackward0>), 'sma in update d': tensor([0.0002], device='cuda:0', grad_fn=<AddBackward0>)}\n"
     ]
    },
    {
     "name": "stderr",
     "output_type": "stream",
     "text": [
      "Train[0/100]:  32%|███▏      | 8/25 [00:05<00:12,  1.36it/s]"
     ]
    },
    {
     "name": "stdout",
     "output_type": "stream",
     "text": [
      "0 8 {'output_real in update d': tensor(0.0092, device='cuda:0', grad_fn=<MeanBackward0>), 'output_fake in update d': tensor(0.0092, device='cuda:0', grad_fn=<MeanBackward0>), 'dis_loss in update d': tensor(0., device='cuda:0', grad_fn=<AddBackward0>), 'sma in update d': tensor([0.0002], device='cuda:0', grad_fn=<AddBackward0>)}\n",
      "0 9 "
     ]
    },
    {
     "name": "stderr",
     "output_type": "stream",
     "text": [
      "Train[0/100]:  36%|███▌      | 9/25 [00:06<00:11,  1.36it/s]"
     ]
    },
    {
     "name": "stdout",
     "output_type": "stream",
     "text": [
      "{'output_real in update d': tensor(0.0092, device='cuda:0', grad_fn=<MeanBackward0>), 'output_fake in update d': tensor(0.0092, device='cuda:0', grad_fn=<MeanBackward0>), 'dis_loss in update d': tensor(9.3132e-10, device='cuda:0', grad_fn=<AddBackward0>), 'sma in update d': tensor([0.0002], device='cuda:0', grad_fn=<AddBackward0>)}\n"
     ]
    },
    {
     "name": "stderr",
     "output_type": "stream",
     "text": [
      "Train[0/100]:  40%|████      | 10/25 [00:07<00:11,  1.36it/s]"
     ]
    },
    {
     "name": "stdout",
     "output_type": "stream",
     "text": [
      "0 10 {'output_real in update d': tensor(0.0092, device='cuda:0', grad_fn=<MeanBackward0>), 'output_fake in update d': tensor(0.0092, device='cuda:0', grad_fn=<MeanBackward0>), 'dis_loss in update d': tensor(-1.8626e-09, device='cuda:0', grad_fn=<AddBackward0>), 'sma in update d': tensor([0.0002], device='cuda:0', grad_fn=<AddBackward0>)}\n"
     ]
    },
    {
     "name": "stderr",
     "output_type": "stream",
     "text": [
      "Train[0/100]:  44%|████▍     | 11/25 [00:08<00:10,  1.36it/s]"
     ]
    },
    {
     "name": "stdout",
     "output_type": "stream",
     "text": [
      "0 11 {'output_real in update d': tensor(0.0092, device='cuda:0', grad_fn=<MeanBackward0>), 'output_fake in update d': tensor(0.0092, device='cuda:0', grad_fn=<MeanBackward0>), 'dis_loss in update d': tensor(-1.8626e-09, device='cuda:0', grad_fn=<AddBackward0>), 'sma in update d': tensor([0.0002], device='cuda:0', grad_fn=<AddBackward0>)}\n"
     ]
    },
    {
     "name": "stderr",
     "output_type": "stream",
     "text": [
      "Train[0/100]:  48%|████▊     | 12/25 [00:08<00:09,  1.36it/s]"
     ]
    },
    {
     "name": "stdout",
     "output_type": "stream",
     "text": [
      "0 12 {'output_real in update d': tensor(0.0092, device='cuda:0', grad_fn=<MeanBackward0>), 'output_fake in update d': tensor(0.0092, device='cuda:0', grad_fn=<MeanBackward0>), 'dis_loss in update d': tensor(1.8626e-09, device='cuda:0', grad_fn=<AddBackward0>), 'sma in update d': tensor([0.0002], device='cuda:0', grad_fn=<AddBackward0>)}\n"
     ]
    },
    {
     "name": "stderr",
     "output_type": "stream",
     "text": [
      "Train[0/100]:  52%|█████▏    | 13/25 [00:09<00:08,  1.37it/s]"
     ]
    },
    {
     "name": "stdout",
     "output_type": "stream",
     "text": [
      "0 13 {'output_real in update d': tensor(0.0092, device='cuda:0', grad_fn=<MeanBackward0>), 'output_fake in update d': tensor(0.0092, device='cuda:0', grad_fn=<MeanBackward0>), 'dis_loss in update d': tensor(-9.3132e-10, device='cuda:0', grad_fn=<AddBackward0>), 'sma in update d': tensor([0.0002], device='cuda:0', grad_fn=<AddBackward0>)}\n"
     ]
    },
    {
     "name": "stderr",
     "output_type": "stream",
     "text": [
      "Train[0/100]:  56%|█████▌    | 14/25 [00:10<00:08,  1.31it/s]"
     ]
    },
    {
     "name": "stdout",
     "output_type": "stream",
     "text": [
      "0 14 {'output_real in update d': tensor(0.0092, device='cuda:0', grad_fn=<MeanBackward0>), 'output_fake in update d': tensor(0.0092, device='cuda:0', grad_fn=<MeanBackward0>), 'dis_loss in update d': tensor(0., device='cuda:0', grad_fn=<AddBackward0>), 'sma in update d': tensor([0.0002], device='cuda:0', grad_fn=<AddBackward0>)}\n"
     ]
    },
    {
     "name": "stderr",
     "output_type": "stream",
     "text": [
      "Train[0/100]:  60%|██████    | 15/25 [00:11<00:07,  1.32it/s]"
     ]
    },
    {
     "name": "stdout",
     "output_type": "stream",
     "text": [
      "0 15 {'output_real in update d': tensor(0.0092, device='cuda:0', grad_fn=<MeanBackward0>), 'output_fake in update d': tensor(0.0092, device='cuda:0', grad_fn=<MeanBackward0>), 'dis_loss in update d': tensor(0., device='cuda:0', grad_fn=<AddBackward0>), 'sma in update d': tensor([0.0002], device='cuda:0', grad_fn=<AddBackward0>)}\n"
     ]
    },
    {
     "name": "stderr",
     "output_type": "stream",
     "text": [
      "Train[0/100]:  64%|██████▍   | 16/25 [00:11<00:06,  1.33it/s]"
     ]
    },
    {
     "name": "stdout",
     "output_type": "stream",
     "text": [
      "0 16 {'output_real in update d': tensor(0.0092, device='cuda:0', grad_fn=<MeanBackward0>), 'output_fake in update d': tensor(0.0092, device='cuda:0', grad_fn=<MeanBackward0>), 'dis_loss in update d': tensor(-1.8626e-09, device='cuda:0', grad_fn=<AddBackward0>), 'sma in update d': tensor([0.0002], device='cuda:0', grad_fn=<AddBackward0>)}\n"
     ]
    },
    {
     "name": "stderr",
     "output_type": "stream",
     "text": [
      "Train[0/100]:  68%|██████▊   | 17/25 [00:12<00:05,  1.34it/s]"
     ]
    },
    {
     "name": "stdout",
     "output_type": "stream",
     "text": [
      "0 17 {'output_real in update d': tensor(0.0092, device='cuda:0', grad_fn=<MeanBackward0>), 'output_fake in update d': tensor(0.0092, device='cuda:0', grad_fn=<MeanBackward0>), 'dis_loss in update d': tensor(-9.3132e-10, device='cuda:0', grad_fn=<AddBackward0>), 'sma in update d': tensor([0.0002], device='cuda:0', grad_fn=<AddBackward0>)}\n"
     ]
    },
    {
     "name": "stderr",
     "output_type": "stream",
     "text": [
      "Train[0/100]:  72%|███████▏  | 18/25 [00:13<00:05,  1.34it/s]"
     ]
    },
    {
     "name": "stdout",
     "output_type": "stream",
     "text": [
      "0 18 {'output_real in update d': tensor(0.0092, device='cuda:0', grad_fn=<MeanBackward0>), 'output_fake in update d': tensor(0.0092, device='cuda:0', grad_fn=<MeanBackward0>), 'dis_loss in update d': tensor(1.8626e-09, device='cuda:0', grad_fn=<AddBackward0>), 'sma in update d': tensor([0.0002], device='cuda:0', grad_fn=<AddBackward0>)}\n"
     ]
    },
    {
     "name": "stderr",
     "output_type": "stream",
     "text": [
      "Train[0/100]:  76%|███████▌  | 19/25 [00:14<00:04,  1.34it/s]"
     ]
    },
    {
     "name": "stdout",
     "output_type": "stream",
     "text": [
      "0 19 {'output_real in update d': tensor(0.0092, device='cuda:0', grad_fn=<MeanBackward0>), 'output_fake in update d': tensor(0.0092, device='cuda:0', grad_fn=<MeanBackward0>), 'dis_loss in update d': tensor(-1.8626e-09, device='cuda:0', grad_fn=<AddBackward0>), 'sma in update d': tensor([0.0002], device='cuda:0', grad_fn=<AddBackward0>)}\n"
     ]
    },
    {
     "name": "stderr",
     "output_type": "stream",
     "text": [
      "Train[0/100]:  80%|████████  | 20/25 [00:14<00:03,  1.34it/s]"
     ]
    },
    {
     "name": "stdout",
     "output_type": "stream",
     "text": [
      "0 20 {'output_real in update d': tensor(0.0092, device='cuda:0', grad_fn=<MeanBackward0>), 'output_fake in update d': tensor(0.0092, device='cuda:0', grad_fn=<MeanBackward0>), 'dis_loss in update d': tensor(0., device='cuda:0', grad_fn=<AddBackward0>), 'sma in update d': tensor([0.0002], device='cuda:0', grad_fn=<AddBackward0>)}\n"
     ]
    },
    {
     "name": "stderr",
     "output_type": "stream",
     "text": [
      "Train[0/100]:  84%|████████▍ | 21/25 [00:15<00:02,  1.35it/s]"
     ]
    },
    {
     "name": "stdout",
     "output_type": "stream",
     "text": [
      "0 21 {'output_real in update d': tensor(0.0092, device='cuda:0', grad_fn=<MeanBackward0>), 'output_fake in update d': tensor(0.0092, device='cuda:0', grad_fn=<MeanBackward0>), 'dis_loss in update d': tensor(-9.3132e-10, device='cuda:0', grad_fn=<AddBackward0>), 'sma in update d': tensor([0.0002], device='cuda:0', grad_fn=<AddBackward0>)}\n"
     ]
    },
    {
     "name": "stderr",
     "output_type": "stream",
     "text": [
      "Train[0/100]:  84%|████████▍ | 21/25 [00:15<00:02,  1.34it/s]\n"
     ]
    },
    {
     "ename": "KeyboardInterrupt",
     "evalue": "",
     "output_type": "error",
     "traceback": [
      "\u001b[0;31m---------------------------------------------------------------------------\u001b[0m",
      "\u001b[0;31mKeyboardInterrupt\u001b[0m                         Traceback (most recent call last)",
      "\u001b[0;32m<ipython-input-21-75a4849e2944>\u001b[0m in \u001b[0;36m<module>\u001b[0;34m\u001b[0m\n\u001b[1;32m      1\u001b[0m \u001b[0;32mfor\u001b[0m \u001b[0mi\u001b[0m \u001b[0;32min\u001b[0m \u001b[0mrange\u001b[0m\u001b[0;34m(\u001b[0m\u001b[0;36m0\u001b[0m\u001b[0;34m,\u001b[0m \u001b[0mepochs\u001b[0m\u001b[0;34m)\u001b[0m\u001b[0;34m:\u001b[0m\u001b[0;34m\u001b[0m\u001b[0;34m\u001b[0m\u001b[0m\n\u001b[1;32m      2\u001b[0m     \u001b[0mbatch_count\u001b[0m \u001b[0;34m=\u001b[0m \u001b[0;36m0\u001b[0m\u001b[0;34m\u001b[0m\u001b[0;34m\u001b[0m\u001b[0m\n\u001b[0;32m----> 3\u001b[0;31m     \u001b[0;32mfor\u001b[0m \u001b[0mimage\u001b[0m\u001b[0;34m,\u001b[0m \u001b[0mlabel\u001b[0m \u001b[0;32min\u001b[0m \u001b[0mtqdm\u001b[0m\u001b[0;34m.\u001b[0m\u001b[0mtqdm\u001b[0m\u001b[0;34m(\u001b[0m\u001b[0mtrain_loader\u001b[0m\u001b[0;34m,\u001b[0m \u001b[0mdesc\u001b[0m\u001b[0;34m=\u001b[0m\u001b[0;34m'Train[%d/%d]'\u001b[0m \u001b[0;34m%\u001b[0m\u001b[0;34m(\u001b[0m\u001b[0mi\u001b[0m\u001b[0;34m,\u001b[0m \u001b[0mepochs\u001b[0m\u001b[0;34m)\u001b[0m\u001b[0;34m)\u001b[0m\u001b[0;34m:\u001b[0m\u001b[0;34m\u001b[0m\u001b[0;34m\u001b[0m\u001b[0m\n\u001b[0m\u001b[1;32m      4\u001b[0m         \u001b[0mbatch_count\u001b[0m \u001b[0;34m+=\u001b[0m \u001b[0;36m1\u001b[0m\u001b[0;34m\u001b[0m\u001b[0;34m\u001b[0m\u001b[0m\n\u001b[1;32m      5\u001b[0m         \u001b[0mreal_cuda\u001b[0m \u001b[0;34m=\u001b[0m \u001b[0mimage\u001b[0m\u001b[0;34m.\u001b[0m\u001b[0mto\u001b[0m\u001b[0;34m(\u001b[0m\u001b[0mdevice\u001b[0m\u001b[0;34m)\u001b[0m\u001b[0;34m\u001b[0m\u001b[0;34m\u001b[0m\u001b[0m\n",
      "\u001b[0;32m/opt/conda/envs/stylegan2/lib/python3.9/site-packages/tqdm/std.py\u001b[0m in \u001b[0;36m__iter__\u001b[0;34m(self)\u001b[0m\n\u001b[1;32m   1176\u001b[0m \u001b[0;34m\u001b[0m\u001b[0m\n\u001b[1;32m   1177\u001b[0m         \u001b[0;32mtry\u001b[0m\u001b[0;34m:\u001b[0m\u001b[0;34m\u001b[0m\u001b[0;34m\u001b[0m\u001b[0m\n\u001b[0;32m-> 1178\u001b[0;31m             \u001b[0;32mfor\u001b[0m \u001b[0mobj\u001b[0m \u001b[0;32min\u001b[0m \u001b[0miterable\u001b[0m\u001b[0;34m:\u001b[0m\u001b[0;34m\u001b[0m\u001b[0;34m\u001b[0m\u001b[0m\n\u001b[0m\u001b[1;32m   1179\u001b[0m                 \u001b[0;32myield\u001b[0m \u001b[0mobj\u001b[0m\u001b[0;34m\u001b[0m\u001b[0;34m\u001b[0m\u001b[0m\n\u001b[1;32m   1180\u001b[0m                 \u001b[0;31m# Update and possibly print the progressbar.\u001b[0m\u001b[0;34m\u001b[0m\u001b[0;34m\u001b[0m\u001b[0;34m\u001b[0m\u001b[0m\n",
      "\u001b[0;32m/opt/conda/envs/stylegan2/lib/python3.9/site-packages/torch/utils/data/dataloader.py\u001b[0m in \u001b[0;36m__next__\u001b[0;34m(self)\u001b[0m\n\u001b[1;32m    515\u001b[0m             \u001b[0;32mif\u001b[0m \u001b[0mself\u001b[0m\u001b[0;34m.\u001b[0m\u001b[0m_sampler_iter\u001b[0m \u001b[0;32mis\u001b[0m \u001b[0;32mNone\u001b[0m\u001b[0;34m:\u001b[0m\u001b[0;34m\u001b[0m\u001b[0;34m\u001b[0m\u001b[0m\n\u001b[1;32m    516\u001b[0m                 \u001b[0mself\u001b[0m\u001b[0;34m.\u001b[0m\u001b[0m_reset\u001b[0m\u001b[0;34m(\u001b[0m\u001b[0;34m)\u001b[0m\u001b[0;34m\u001b[0m\u001b[0;34m\u001b[0m\u001b[0m\n\u001b[0;32m--> 517\u001b[0;31m             \u001b[0mdata\u001b[0m \u001b[0;34m=\u001b[0m \u001b[0mself\u001b[0m\u001b[0;34m.\u001b[0m\u001b[0m_next_data\u001b[0m\u001b[0;34m(\u001b[0m\u001b[0;34m)\u001b[0m\u001b[0;34m\u001b[0m\u001b[0;34m\u001b[0m\u001b[0m\n\u001b[0m\u001b[1;32m    518\u001b[0m             \u001b[0mself\u001b[0m\u001b[0;34m.\u001b[0m\u001b[0m_num_yielded\u001b[0m \u001b[0;34m+=\u001b[0m \u001b[0;36m1\u001b[0m\u001b[0;34m\u001b[0m\u001b[0;34m\u001b[0m\u001b[0m\n\u001b[1;32m    519\u001b[0m             \u001b[0;32mif\u001b[0m \u001b[0mself\u001b[0m\u001b[0;34m.\u001b[0m\u001b[0m_dataset_kind\u001b[0m \u001b[0;34m==\u001b[0m \u001b[0m_DatasetKind\u001b[0m\u001b[0;34m.\u001b[0m\u001b[0mIterable\u001b[0m \u001b[0;32mand\u001b[0m\u001b[0;31m \u001b[0m\u001b[0;31m\\\u001b[0m\u001b[0;34m\u001b[0m\u001b[0;34m\u001b[0m\u001b[0m\n",
      "\u001b[0;32m/opt/conda/envs/stylegan2/lib/python3.9/site-packages/torch/utils/data/dataloader.py\u001b[0m in \u001b[0;36m_next_data\u001b[0;34m(self)\u001b[0m\n\u001b[1;32m    555\u001b[0m     \u001b[0;32mdef\u001b[0m \u001b[0m_next_data\u001b[0m\u001b[0;34m(\u001b[0m\u001b[0mself\u001b[0m\u001b[0;34m)\u001b[0m\u001b[0;34m:\u001b[0m\u001b[0;34m\u001b[0m\u001b[0;34m\u001b[0m\u001b[0m\n\u001b[1;32m    556\u001b[0m         \u001b[0mindex\u001b[0m \u001b[0;34m=\u001b[0m \u001b[0mself\u001b[0m\u001b[0;34m.\u001b[0m\u001b[0m_next_index\u001b[0m\u001b[0;34m(\u001b[0m\u001b[0;34m)\u001b[0m  \u001b[0;31m# may raise StopIteration\u001b[0m\u001b[0;34m\u001b[0m\u001b[0;34m\u001b[0m\u001b[0m\n\u001b[0;32m--> 557\u001b[0;31m         \u001b[0mdata\u001b[0m \u001b[0;34m=\u001b[0m \u001b[0mself\u001b[0m\u001b[0;34m.\u001b[0m\u001b[0m_dataset_fetcher\u001b[0m\u001b[0;34m.\u001b[0m\u001b[0mfetch\u001b[0m\u001b[0;34m(\u001b[0m\u001b[0mindex\u001b[0m\u001b[0;34m)\u001b[0m  \u001b[0;31m# may raise StopIteration\u001b[0m\u001b[0;34m\u001b[0m\u001b[0;34m\u001b[0m\u001b[0m\n\u001b[0m\u001b[1;32m    558\u001b[0m         \u001b[0;32mif\u001b[0m \u001b[0mself\u001b[0m\u001b[0;34m.\u001b[0m\u001b[0m_pin_memory\u001b[0m\u001b[0;34m:\u001b[0m\u001b[0;34m\u001b[0m\u001b[0;34m\u001b[0m\u001b[0m\n\u001b[1;32m    559\u001b[0m             \u001b[0mdata\u001b[0m \u001b[0;34m=\u001b[0m \u001b[0m_utils\u001b[0m\u001b[0;34m.\u001b[0m\u001b[0mpin_memory\u001b[0m\u001b[0;34m.\u001b[0m\u001b[0mpin_memory\u001b[0m\u001b[0;34m(\u001b[0m\u001b[0mdata\u001b[0m\u001b[0;34m)\u001b[0m\u001b[0;34m\u001b[0m\u001b[0;34m\u001b[0m\u001b[0m\n",
      "\u001b[0;32m/opt/conda/envs/stylegan2/lib/python3.9/site-packages/torch/utils/data/_utils/fetch.py\u001b[0m in \u001b[0;36mfetch\u001b[0;34m(self, possibly_batched_index)\u001b[0m\n\u001b[1;32m     42\u001b[0m     \u001b[0;32mdef\u001b[0m \u001b[0mfetch\u001b[0m\u001b[0;34m(\u001b[0m\u001b[0mself\u001b[0m\u001b[0;34m,\u001b[0m \u001b[0mpossibly_batched_index\u001b[0m\u001b[0;34m)\u001b[0m\u001b[0;34m:\u001b[0m\u001b[0;34m\u001b[0m\u001b[0;34m\u001b[0m\u001b[0m\n\u001b[1;32m     43\u001b[0m         \u001b[0;32mif\u001b[0m \u001b[0mself\u001b[0m\u001b[0;34m.\u001b[0m\u001b[0mauto_collation\u001b[0m\u001b[0;34m:\u001b[0m\u001b[0;34m\u001b[0m\u001b[0;34m\u001b[0m\u001b[0m\n\u001b[0;32m---> 44\u001b[0;31m             \u001b[0mdata\u001b[0m \u001b[0;34m=\u001b[0m \u001b[0;34m[\u001b[0m\u001b[0mself\u001b[0m\u001b[0;34m.\u001b[0m\u001b[0mdataset\u001b[0m\u001b[0;34m[\u001b[0m\u001b[0midx\u001b[0m\u001b[0;34m]\u001b[0m \u001b[0;32mfor\u001b[0m \u001b[0midx\u001b[0m \u001b[0;32min\u001b[0m \u001b[0mpossibly_batched_index\u001b[0m\u001b[0;34m]\u001b[0m\u001b[0;34m\u001b[0m\u001b[0;34m\u001b[0m\u001b[0m\n\u001b[0m\u001b[1;32m     45\u001b[0m         \u001b[0;32melse\u001b[0m\u001b[0;34m:\u001b[0m\u001b[0;34m\u001b[0m\u001b[0;34m\u001b[0m\u001b[0m\n\u001b[1;32m     46\u001b[0m             \u001b[0mdata\u001b[0m \u001b[0;34m=\u001b[0m \u001b[0mself\u001b[0m\u001b[0;34m.\u001b[0m\u001b[0mdataset\u001b[0m\u001b[0;34m[\u001b[0m\u001b[0mpossibly_batched_index\u001b[0m\u001b[0;34m]\u001b[0m\u001b[0;34m\u001b[0m\u001b[0;34m\u001b[0m\u001b[0m\n",
      "\u001b[0;32m/opt/conda/envs/stylegan2/lib/python3.9/site-packages/torch/utils/data/_utils/fetch.py\u001b[0m in \u001b[0;36m<listcomp>\u001b[0;34m(.0)\u001b[0m\n\u001b[1;32m     42\u001b[0m     \u001b[0;32mdef\u001b[0m \u001b[0mfetch\u001b[0m\u001b[0;34m(\u001b[0m\u001b[0mself\u001b[0m\u001b[0;34m,\u001b[0m \u001b[0mpossibly_batched_index\u001b[0m\u001b[0;34m)\u001b[0m\u001b[0;34m:\u001b[0m\u001b[0;34m\u001b[0m\u001b[0;34m\u001b[0m\u001b[0m\n\u001b[1;32m     43\u001b[0m         \u001b[0;32mif\u001b[0m \u001b[0mself\u001b[0m\u001b[0;34m.\u001b[0m\u001b[0mauto_collation\u001b[0m\u001b[0;34m:\u001b[0m\u001b[0;34m\u001b[0m\u001b[0;34m\u001b[0m\u001b[0m\n\u001b[0;32m---> 44\u001b[0;31m             \u001b[0mdata\u001b[0m \u001b[0;34m=\u001b[0m \u001b[0;34m[\u001b[0m\u001b[0mself\u001b[0m\u001b[0;34m.\u001b[0m\u001b[0mdataset\u001b[0m\u001b[0;34m[\u001b[0m\u001b[0midx\u001b[0m\u001b[0;34m]\u001b[0m \u001b[0;32mfor\u001b[0m \u001b[0midx\u001b[0m \u001b[0;32min\u001b[0m \u001b[0mpossibly_batched_index\u001b[0m\u001b[0;34m]\u001b[0m\u001b[0;34m\u001b[0m\u001b[0;34m\u001b[0m\u001b[0m\n\u001b[0m\u001b[1;32m     45\u001b[0m         \u001b[0;32melse\u001b[0m\u001b[0;34m:\u001b[0m\u001b[0;34m\u001b[0m\u001b[0;34m\u001b[0m\u001b[0m\n\u001b[1;32m     46\u001b[0m             \u001b[0mdata\u001b[0m \u001b[0;34m=\u001b[0m \u001b[0mself\u001b[0m\u001b[0;34m.\u001b[0m\u001b[0mdataset\u001b[0m\u001b[0;34m[\u001b[0m\u001b[0mpossibly_batched_index\u001b[0m\u001b[0;34m]\u001b[0m\u001b[0;34m\u001b[0m\u001b[0;34m\u001b[0m\u001b[0m\n",
      "\u001b[0;32m~/.cache/torch/hub/pytorch_vision_v0.9.0/torchvision/datasets/cifar.py\u001b[0m in \u001b[0;36m__getitem__\u001b[0;34m(self, index)\u001b[0m\n\u001b[1;32m    118\u001b[0m \u001b[0;34m\u001b[0m\u001b[0m\n\u001b[1;32m    119\u001b[0m         \u001b[0;32mif\u001b[0m \u001b[0mself\u001b[0m\u001b[0;34m.\u001b[0m\u001b[0mtransform\u001b[0m \u001b[0;32mis\u001b[0m \u001b[0;32mnot\u001b[0m \u001b[0;32mNone\u001b[0m\u001b[0;34m:\u001b[0m\u001b[0;34m\u001b[0m\u001b[0;34m\u001b[0m\u001b[0m\n\u001b[0;32m--> 120\u001b[0;31m             \u001b[0mimg\u001b[0m \u001b[0;34m=\u001b[0m \u001b[0mself\u001b[0m\u001b[0;34m.\u001b[0m\u001b[0mtransform\u001b[0m\u001b[0;34m(\u001b[0m\u001b[0mimg\u001b[0m\u001b[0;34m)\u001b[0m\u001b[0;34m\u001b[0m\u001b[0;34m\u001b[0m\u001b[0m\n\u001b[0m\u001b[1;32m    121\u001b[0m \u001b[0;34m\u001b[0m\u001b[0m\n\u001b[1;32m    122\u001b[0m         \u001b[0;32mif\u001b[0m \u001b[0mself\u001b[0m\u001b[0;34m.\u001b[0m\u001b[0mtarget_transform\u001b[0m \u001b[0;32mis\u001b[0m \u001b[0;32mnot\u001b[0m \u001b[0;32mNone\u001b[0m\u001b[0;34m:\u001b[0m\u001b[0;34m\u001b[0m\u001b[0;34m\u001b[0m\u001b[0m\n",
      "\u001b[0;32m~/.cache/torch/hub/pytorch_vision_v0.9.0/torchvision/transforms/transforms.py\u001b[0m in \u001b[0;36m__call__\u001b[0;34m(self, img)\u001b[0m\n\u001b[1;32m     58\u001b[0m     \u001b[0;32mdef\u001b[0m \u001b[0m__call__\u001b[0m\u001b[0;34m(\u001b[0m\u001b[0mself\u001b[0m\u001b[0;34m,\u001b[0m \u001b[0mimg\u001b[0m\u001b[0;34m)\u001b[0m\u001b[0;34m:\u001b[0m\u001b[0;34m\u001b[0m\u001b[0;34m\u001b[0m\u001b[0m\n\u001b[1;32m     59\u001b[0m         \u001b[0;32mfor\u001b[0m \u001b[0mt\u001b[0m \u001b[0;32min\u001b[0m \u001b[0mself\u001b[0m\u001b[0;34m.\u001b[0m\u001b[0mtransforms\u001b[0m\u001b[0;34m:\u001b[0m\u001b[0;34m\u001b[0m\u001b[0;34m\u001b[0m\u001b[0m\n\u001b[0;32m---> 60\u001b[0;31m             \u001b[0mimg\u001b[0m \u001b[0;34m=\u001b[0m \u001b[0mt\u001b[0m\u001b[0;34m(\u001b[0m\u001b[0mimg\u001b[0m\u001b[0;34m)\u001b[0m\u001b[0;34m\u001b[0m\u001b[0;34m\u001b[0m\u001b[0m\n\u001b[0m\u001b[1;32m     61\u001b[0m         \u001b[0;32mreturn\u001b[0m \u001b[0mimg\u001b[0m\u001b[0;34m\u001b[0m\u001b[0;34m\u001b[0m\u001b[0m\n\u001b[1;32m     62\u001b[0m \u001b[0;34m\u001b[0m\u001b[0m\n",
      "\u001b[0;32m~/.cache/torch/hub/pytorch_vision_v0.9.0/torchvision/transforms/transforms.py\u001b[0m in \u001b[0;36m__call__\u001b[0;34m(self, pic)\u001b[0m\n\u001b[1;32m     95\u001b[0m             \u001b[0mTensor\u001b[0m\u001b[0;34m:\u001b[0m \u001b[0mConverted\u001b[0m \u001b[0mimage\u001b[0m\u001b[0;34m.\u001b[0m\u001b[0;34m\u001b[0m\u001b[0;34m\u001b[0m\u001b[0m\n\u001b[1;32m     96\u001b[0m         \"\"\"\n\u001b[0;32m---> 97\u001b[0;31m         \u001b[0;32mreturn\u001b[0m \u001b[0mF\u001b[0m\u001b[0;34m.\u001b[0m\u001b[0mto_tensor\u001b[0m\u001b[0;34m(\u001b[0m\u001b[0mpic\u001b[0m\u001b[0;34m)\u001b[0m\u001b[0;34m\u001b[0m\u001b[0;34m\u001b[0m\u001b[0m\n\u001b[0m\u001b[1;32m     98\u001b[0m \u001b[0;34m\u001b[0m\u001b[0m\n\u001b[1;32m     99\u001b[0m     \u001b[0;32mdef\u001b[0m \u001b[0m__repr__\u001b[0m\u001b[0;34m(\u001b[0m\u001b[0mself\u001b[0m\u001b[0;34m)\u001b[0m\u001b[0;34m:\u001b[0m\u001b[0;34m\u001b[0m\u001b[0;34m\u001b[0m\u001b[0m\n",
      "\u001b[0;32m~/.cache/torch/hub/pytorch_vision_v0.9.0/torchvision/transforms/functional.py\u001b[0m in \u001b[0;36mto_tensor\u001b[0;34m(pic)\u001b[0m\n\u001b[1;32m    134\u001b[0m         \u001b[0mimg\u001b[0m \u001b[0;34m=\u001b[0m \u001b[0;36m255\u001b[0m \u001b[0;34m*\u001b[0m \u001b[0mtorch\u001b[0m\u001b[0;34m.\u001b[0m\u001b[0mfrom_numpy\u001b[0m\u001b[0;34m(\u001b[0m\u001b[0mnp\u001b[0m\u001b[0;34m.\u001b[0m\u001b[0marray\u001b[0m\u001b[0;34m(\u001b[0m\u001b[0mpic\u001b[0m\u001b[0;34m,\u001b[0m \u001b[0mnp\u001b[0m\u001b[0;34m.\u001b[0m\u001b[0muint8\u001b[0m\u001b[0;34m,\u001b[0m \u001b[0mcopy\u001b[0m\u001b[0;34m=\u001b[0m\u001b[0;32mFalse\u001b[0m\u001b[0;34m)\u001b[0m\u001b[0;34m)\u001b[0m\u001b[0;34m\u001b[0m\u001b[0;34m\u001b[0m\u001b[0m\n\u001b[1;32m    135\u001b[0m     \u001b[0;32melse\u001b[0m\u001b[0;34m:\u001b[0m\u001b[0;34m\u001b[0m\u001b[0;34m\u001b[0m\u001b[0m\n\u001b[0;32m--> 136\u001b[0;31m         \u001b[0mimg\u001b[0m \u001b[0;34m=\u001b[0m \u001b[0mtorch\u001b[0m\u001b[0;34m.\u001b[0m\u001b[0mByteTensor\u001b[0m\u001b[0;34m(\u001b[0m\u001b[0mtorch\u001b[0m\u001b[0;34m.\u001b[0m\u001b[0mByteStorage\u001b[0m\u001b[0;34m.\u001b[0m\u001b[0mfrom_buffer\u001b[0m\u001b[0;34m(\u001b[0m\u001b[0mpic\u001b[0m\u001b[0;34m.\u001b[0m\u001b[0mtobytes\u001b[0m\u001b[0;34m(\u001b[0m\u001b[0;34m)\u001b[0m\u001b[0;34m)\u001b[0m\u001b[0;34m)\u001b[0m\u001b[0;34m\u001b[0m\u001b[0;34m\u001b[0m\u001b[0m\n\u001b[0m\u001b[1;32m    137\u001b[0m \u001b[0;34m\u001b[0m\u001b[0m\n\u001b[1;32m    138\u001b[0m     \u001b[0mimg\u001b[0m \u001b[0;34m=\u001b[0m \u001b[0mimg\u001b[0m\u001b[0;34m.\u001b[0m\u001b[0mview\u001b[0m\u001b[0;34m(\u001b[0m\u001b[0mpic\u001b[0m\u001b[0;34m.\u001b[0m\u001b[0msize\u001b[0m\u001b[0;34m[\u001b[0m\u001b[0;36m1\u001b[0m\u001b[0;34m]\u001b[0m\u001b[0;34m,\u001b[0m \u001b[0mpic\u001b[0m\u001b[0;34m.\u001b[0m\u001b[0msize\u001b[0m\u001b[0;34m[\u001b[0m\u001b[0;36m0\u001b[0m\u001b[0;34m]\u001b[0m\u001b[0;34m,\u001b[0m \u001b[0mlen\u001b[0m\u001b[0;34m(\u001b[0m\u001b[0mpic\u001b[0m\u001b[0;34m.\u001b[0m\u001b[0mgetbands\u001b[0m\u001b[0;34m(\u001b[0m\u001b[0;34m)\u001b[0m\u001b[0;34m)\u001b[0m\u001b[0;34m)\u001b[0m\u001b[0;34m\u001b[0m\u001b[0;34m\u001b[0m\u001b[0m\n",
      "\u001b[0;31mKeyboardInterrupt\u001b[0m: "
     ]
    }
   ],
   "source": [
    "for i in range(0, epochs):\n",
    "    batch_count = 0\n",
    "    for image, label in tqdm.tqdm(train_loader, desc='Train[%d/%d]' %(i, epochs)):\n",
    "        batch_count += 1\n",
    "        real_cuda = image.to(device)\n",
    "\n",
    "        sma = sma_gen(mul_alpha, set_min=args.add_z_min)\n",
    "        loss_dis = wgan_smeg_disstep_update_discriminator(netE, netG, netD, optimizerD, \\\n",
    "                                                  real_cuda, nz, sma, args.clip_value)\n",
    "\n",
    "        \n",
    "        loss_dis.update({'sma' : sma})\n",
    "        wandb.log()"
   ]
  },
  {
   "cell_type": "code",
   "execution_count": null,
   "id": "c80aab50",
   "metadata": {},
   "outputs": [],
   "source": [
    "        if i % args.n_critic == 0 : \n",
    "            loss_g = wgan_smeg_disstep_update_generator(netE, netG, netD, optimizerG, real_cuda, nz, sma)\n",
    "        sma = sma_gen(mul_alpha, set_min=args.add_z_min)\n",
    "        loss_alpha = wcgan_smeg_disstep_update_alpha(netE, netD, netG, optimizerM, real_cuda, nz, sma)"
   ]
  },
  {
   "cell_type": "code",
   "execution_count": null,
   "id": "ff7a87d0",
   "metadata": {},
   "outputs": [],
   "source": []
  },
  {
   "cell_type": "code",
   "execution_count": 8,
   "id": "ed77487b",
   "metadata": {},
   "outputs": [],
   "source": [
    "image, label = next(iter(train_loader))\n",
    "\n",
    "sma = torch.sigmoid(mul_alpha)"
   ]
  },
  {
   "cell_type": "code",
   "execution_count": 16,
   "id": "ecfc7be7",
   "metadata": {},
   "outputs": [
    {
     "name": "stdout",
     "output_type": "stream",
     "text": [
      "tensor(0.0218, device='cuda:0', grad_fn=<MeanBackward0>) tensor(-0.0254, device='cuda:0', grad_fn=<MeanBackward0>) tensor(-0.0257, device='cuda:0', grad_fn=<MeanBackward0>)\n"
     ]
    }
   ],
   "source": [
    "sma = 0.1\n",
    "\n",
    "real_cuda = image.to(device)\n",
    "batch_size = real_cuda.size(0)\n",
    "device= real_cuda.device\n",
    "\n",
    "latent = netE(real_cuda)\n",
    "output_repaint = netD(netG(latent)).mean()\n",
    "\n",
    "output_real = netD(real_cuda).mean()\n",
    "    \n",
    "with torch.no_grad() :\n",
    "    mixed_z = (1-sma)*latent + (sma)*torch.randn(latent.shape, device=device)\n",
    "    fake_img = netG(mixed_z)\n",
    "output_fake = netD(fake_img).mean()\n",
    "    \n",
    "print(output_real, output_repaint, output_fake)"
   ]
  },
  {
   "cell_type": "code",
   "execution_count": 14,
   "id": "bff16242",
   "metadata": {},
   "outputs": [
    {
     "data": {
      "text/plain": [
       "tensor([[[-0.2518]],\n",
       "\n",
       "        [[ 0.0044]],\n",
       "\n",
       "        [[-0.5503]],\n",
       "\n",
       "        [[ 0.3573]],\n",
       "\n",
       "        [[-0.2376]],\n",
       "\n",
       "        [[ 0.0348]],\n",
       "\n",
       "        [[-0.4210]],\n",
       "\n",
       "        [[-0.1104]],\n",
       "\n",
       "        [[-0.5029]],\n",
       "\n",
       "        [[ 0.3634]],\n",
       "\n",
       "        [[-0.3995]],\n",
       "\n",
       "        [[ 0.1606]],\n",
       "\n",
       "        [[-0.2226]],\n",
       "\n",
       "        [[ 0.0573]],\n",
       "\n",
       "        [[-0.0410]],\n",
       "\n",
       "        [[-0.1465]],\n",
       "\n",
       "        [[-0.2782]],\n",
       "\n",
       "        [[-0.1391]],\n",
       "\n",
       "        [[ 0.1283]],\n",
       "\n",
       "        [[ 0.0721]],\n",
       "\n",
       "        [[-0.4578]],\n",
       "\n",
       "        [[-0.2378]],\n",
       "\n",
       "        [[ 0.6826]],\n",
       "\n",
       "        [[ 0.2302]],\n",
       "\n",
       "        [[ 0.5817]],\n",
       "\n",
       "        [[-0.0420]],\n",
       "\n",
       "        [[-0.0186]],\n",
       "\n",
       "        [[ 0.2014]],\n",
       "\n",
       "        [[-0.4891]],\n",
       "\n",
       "        [[-0.0131]],\n",
       "\n",
       "        [[-0.0151]],\n",
       "\n",
       "        [[ 0.6251]],\n",
       "\n",
       "        [[-0.1720]],\n",
       "\n",
       "        [[ 0.3230]],\n",
       "\n",
       "        [[-0.3941]],\n",
       "\n",
       "        [[-0.4184]],\n",
       "\n",
       "        [[ 0.4296]],\n",
       "\n",
       "        [[-0.2319]],\n",
       "\n",
       "        [[-0.6311]],\n",
       "\n",
       "        [[ 0.3988]],\n",
       "\n",
       "        [[-0.3503]],\n",
       "\n",
       "        [[ 0.1877]],\n",
       "\n",
       "        [[-0.3155]],\n",
       "\n",
       "        [[ 0.0694]],\n",
       "\n",
       "        [[ 0.0911]],\n",
       "\n",
       "        [[-0.0305]],\n",
       "\n",
       "        [[ 0.5365]],\n",
       "\n",
       "        [[ 0.2595]],\n",
       "\n",
       "        [[-0.7601]],\n",
       "\n",
       "        [[ 0.2753]],\n",
       "\n",
       "        [[ 0.0989]],\n",
       "\n",
       "        [[ 0.5150]],\n",
       "\n",
       "        [[-0.3113]],\n",
       "\n",
       "        [[ 0.8393]],\n",
       "\n",
       "        [[ 0.3892]],\n",
       "\n",
       "        [[ 0.6601]],\n",
       "\n",
       "        [[-0.5141]],\n",
       "\n",
       "        [[ 0.2734]],\n",
       "\n",
       "        [[-0.3111]],\n",
       "\n",
       "        [[ 0.7552]],\n",
       "\n",
       "        [[ 0.0834]],\n",
       "\n",
       "        [[-0.4520]],\n",
       "\n",
       "        [[-0.0261]],\n",
       "\n",
       "        [[-0.0719]],\n",
       "\n",
       "        [[ 0.3904]],\n",
       "\n",
       "        [[ 0.0554]],\n",
       "\n",
       "        [[-0.2401]],\n",
       "\n",
       "        [[-0.4582]],\n",
       "\n",
       "        [[-0.0751]],\n",
       "\n",
       "        [[ 0.1847]],\n",
       "\n",
       "        [[-0.1870]],\n",
       "\n",
       "        [[-0.4354]],\n",
       "\n",
       "        [[-0.0408]],\n",
       "\n",
       "        [[-0.0705]],\n",
       "\n",
       "        [[-0.3576]],\n",
       "\n",
       "        [[-0.0940]],\n",
       "\n",
       "        [[ 0.1906]],\n",
       "\n",
       "        [[-0.7017]],\n",
       "\n",
       "        [[ 0.1296]],\n",
       "\n",
       "        [[-0.2759]],\n",
       "\n",
       "        [[ 0.4366]],\n",
       "\n",
       "        [[ 0.0890]],\n",
       "\n",
       "        [[-0.4622]],\n",
       "\n",
       "        [[-0.0732]],\n",
       "\n",
       "        [[ 0.3116]],\n",
       "\n",
       "        [[-0.3155]],\n",
       "\n",
       "        [[-0.3836]],\n",
       "\n",
       "        [[ 0.6085]],\n",
       "\n",
       "        [[ 0.3234]],\n",
       "\n",
       "        [[ 0.1532]],\n",
       "\n",
       "        [[ 0.3183]],\n",
       "\n",
       "        [[ 0.1486]],\n",
       "\n",
       "        [[-0.3007]],\n",
       "\n",
       "        [[-0.3183]],\n",
       "\n",
       "        [[-0.0961]],\n",
       "\n",
       "        [[-0.1929]],\n",
       "\n",
       "        [[-0.2299]],\n",
       "\n",
       "        [[-0.2692]],\n",
       "\n",
       "        [[-0.3858]],\n",
       "\n",
       "        [[ 0.1095]]], device='cuda:0', grad_fn=<SelectBackward>)"
      ]
     },
     "execution_count": 14,
     "metadata": {},
     "output_type": "execute_result"
    }
   ],
   "source": [
    "latent[0]"
   ]
  },
  {
   "cell_type": "code",
   "execution_count": 16,
   "id": "36d084ef",
   "metadata": {},
   "outputs": [
    {
     "data": {
      "text/plain": [
       "tensor([-1.9173e-01, -2.1269e-01, -5.2776e-01, -5.6856e-02, -4.7103e-01,\n",
       "         3.0477e-02, -7.0199e-02,  2.3497e-01,  3.0138e-01,  8.5575e-03,\n",
       "         4.1197e-02, -1.4174e-01,  3.8640e-01,  2.8356e-01, -3.6606e-01,\n",
       "        -6.4042e-02,  6.9208e-02, -2.8384e-01, -2.8824e-01, -1.5085e-02,\n",
       "        -2.6247e-01, -2.1389e-02, -3.1265e-01,  3.1821e-01,  5.7037e-02,\n",
       "        -3.6445e-01,  2.4777e-01,  5.7799e-02,  3.9180e-01, -3.4027e-01,\n",
       "        -3.0043e-01,  7.1114e-02,  5.0926e-01, -1.1298e-01, -5.6250e-01,\n",
       "        -2.0538e-02, -4.0376e-01, -6.1883e-01, -2.7161e-01,  5.3111e-02,\n",
       "        -1.3514e-01,  2.3704e-01, -2.3845e-01, -1.5826e-01, -9.4927e-02,\n",
       "         8.6430e-02, -4.9745e-01, -2.4201e-01,  3.3452e-01, -2.6830e-02,\n",
       "         3.0380e-01,  6.7096e-02, -9.2025e-02, -1.0121e-01, -5.1527e-01,\n",
       "        -2.6452e-02,  2.1085e-01,  3.2018e-01, -7.5514e-02, -3.9070e-01,\n",
       "         1.3937e-01, -8.7242e-02,  2.3046e-02, -4.4177e-01, -2.4160e-01,\n",
       "         3.7243e-01,  4.8147e-01, -3.8291e-01, -1.4594e-04, -1.3868e-01,\n",
       "         4.4006e-01, -3.4984e-01, -2.3967e-01, -1.3557e-01,  2.6335e-01,\n",
       "         1.3975e-01, -3.5710e-01,  2.9118e-01, -1.2995e-02,  1.6402e-01,\n",
       "         5.4777e-01, -1.6696e-01,  4.7796e-02,  3.8934e-02,  2.1175e-01,\n",
       "         1.5544e-01,  6.1089e-02,  4.7343e-02, -6.3502e-01, -2.8194e-02,\n",
       "        -3.2504e-01, -1.1558e-02,  3.9888e-01, -1.4669e-01, -1.8904e-02,\n",
       "        -3.2031e-02,  1.1265e-01, -1.5595e-01,  1.9844e-01,  9.6229e-02],\n",
       "       device='cuda:0', grad_fn=<ViewBackward>)"
      ]
     },
     "execution_count": 16,
     "metadata": {},
     "output_type": "execute_result"
    }
   ],
   "source": [
    "latent[0].flatten()"
   ]
  },
  {
   "cell_type": "code",
   "execution_count": 17,
   "id": "f7d59889",
   "metadata": {},
   "outputs": [
    {
     "data": {
      "text/plain": [
       "tensor([-0.1047, -0.1964, -0.5300, -0.1007, -0.4440,  0.0014, -0.0198,  0.2734,\n",
       "         0.3088, -0.0296,  0.0356, -0.1328,  0.3360,  0.3067, -0.3470,  0.0146,\n",
       "         0.0574, -0.1797, -0.2971,  0.0380, -0.2696, -0.0521, -0.2599,  0.2989,\n",
       "         0.0458, -0.3117,  0.1560,  0.0538,  0.4316, -0.3023, -0.2986,  0.0431,\n",
       "         0.5911, -0.1043, -0.5406, -0.0225, -0.3716, -0.6433, -0.3077,  0.0896,\n",
       "        -0.1391,  0.1624, -0.2783, -0.2237, -0.1441,  0.0523, -0.5746, -0.2855,\n",
       "         0.3510, -0.0922,  0.3069,  0.0639, -0.0755, -0.0529, -0.4787, -0.0740,\n",
       "         0.0744,  0.3171, -0.1008, -0.3593,  0.1328, -0.0179, -0.0016, -0.4430,\n",
       "        -0.3043,  0.3937,  0.4645, -0.4503, -0.0237, -0.1173,  0.4343, -0.4017,\n",
       "        -0.2712, -0.1839,  0.2483,  0.0250, -0.4210,  0.3344,  0.0290,  0.1034,\n",
       "         0.4712, -0.2142,  0.1205,  0.1006,  0.3279,  0.2182,  0.0486, -0.0074,\n",
       "        -0.6308,  0.0181, -0.2814, -0.0192,  0.3888, -0.1342, -0.0085,  0.0010,\n",
       "         0.1006, -0.1436,  0.1500,  0.0188], device='cuda:0')"
      ]
     },
     "execution_count": 17,
     "metadata": {},
     "output_type": "execute_result"
    }
   ],
   "source": [
    "latent_fake[0].flatten()"
   ]
  },
  {
   "cell_type": "code",
   "execution_count": null,
   "id": "8230347d",
   "metadata": {},
   "outputs": [],
   "source": []
  },
  {
   "cell_type": "code",
   "execution_count": 12,
   "id": "45ed3b74",
   "metadata": {},
   "outputs": [
    {
     "data": {
      "text/plain": [
       "tensor(-0.0613, device='cuda:0', grad_fn=<MeanBackward0>)"
      ]
     },
     "execution_count": 12,
     "metadata": {},
     "output_type": "execute_result"
    }
   ],
   "source": [
    "output_real"
   ]
  },
  {
   "cell_type": "code",
   "execution_count": 13,
   "id": "f04c595a",
   "metadata": {},
   "outputs": [
    {
     "data": {
      "text/plain": [
       "tensor(-0.0613, device='cuda:0', grad_fn=<MeanBackward0>)"
      ]
     },
     "execution_count": 13,
     "metadata": {},
     "output_type": "execute_result"
    }
   ],
   "source": [
    "output_fake"
   ]
  },
  {
   "cell_type": "code",
   "execution_count": null,
   "id": "4534b2c1",
   "metadata": {},
   "outputs": [],
   "source": []
  },
  {
   "cell_type": "code",
   "execution_count": null,
   "id": "c073dbb9",
   "metadata": {},
   "outputs": [],
   "source": []
  },
  {
   "cell_type": "code",
   "execution_count": null,
   "id": "280680db",
   "metadata": {},
   "outputs": [],
   "source": []
  },
  {
   "cell_type": "code",
   "execution_count": 6,
   "id": "1ce8a072",
   "metadata": {},
   "outputs": [],
   "source": [
    "def wgan_smeg_update_discriminator(netD, netG, netE, optimizerD, real_cuda, criterion, nz, sma, clip_value=0.01):\n",
    "    batch_size = real_cuda.size(0)\n",
    "    device = real_cuda.device\n",
    "\n",
    "    # train with real\n",
    "    output_real = netD(real_cuda)\n",
    "    errD_real = torch.mean(output_real)\n",
    "\n",
    "    # train with fake\n",
    "    fake_latent_insert = gen_latent_feature(netE, real_cuda, batch_size, nz, sma)\n",
    "    fake = netG(fake_latent_insert).detach()\n",
    "    output_fake = netD(fake)\n",
    "    errD_fake = torch.mean(output_fake)\n",
    "    \n",
    "    # train with E(x)\n",
    "    reapint = netG(netE(real_cuda)).detach()\n",
    "    output_repaint = netD(reapint)\n",
    "    errD_repaint = torch.mean(output_repaint)\n",
    "\n",
    "    # miminize? maximize? D(E(x))\n",
    "\n",
    "    if errD_fake >= errD_repaint : \n",
    "        # case) could learn something about repaint. maximize D(repaint)\n",
    "        #  fake --> down\n",
    "        #  repaint --> up\n",
    "        #  real --> up\n",
    "        errD = -errD_repaint - errD_real + errD_fake\n",
    "    else : \n",
    "        # case) remake is more fancy than repaint.\n",
    "        # fake -->down\n",
    "        # repaint --> down\n",
    "        # real --> up\n",
    "        errD = errD_repaint -errD_real + errD_fake\n",
    "\n",
    "    # optimize\n",
    "    \n",
    "    optimizerD.zero_grad()\n",
    "    errD.backward()\n",
    "    optimizerD.step()\n",
    "    \n",
    "    # clip param\n",
    "    for p in netD.parameters():\n",
    "            p.data.clamp_(-clip_value, clip_value)\n",
    "    \n",
    "    #return errD.item()\n",
    "\n",
    "    return errD_real.item(), errD_fake.item(), errD_repaint.item()"
   ]
  },
  {
   "cell_type": "code",
   "execution_count": null,
   "id": "d1dfcebf",
   "metadata": {},
   "outputs": [],
   "source": []
  },
  {
   "cell_type": "code",
   "execution_count": 7,
   "id": "9e5e5739",
   "metadata": {},
   "outputs": [],
   "source": [
    "def percent_dis(train_loader, netD, netG, netE, sma) : \n",
    "    count = 0.\n",
    "    hit_fake = 0.\n",
    "    hit_repaint = 0.\n",
    "    with torch.no_grad() : \n",
    "        for image, label in train_loader :\n",
    "            batch_size = real_cuda.size(0)\n",
    "            device = real_cuda.device\n",
    "            \n",
    "            output_real = netD(real_cuda)\n",
    "            \n",
    "            fake_latent_insert = gen_latent_feature(netE, real_cuda, batch_size, nz, sma)\n",
    "            fake = netG(fake_latent_insert).detach()\n",
    "            output_fake = netD(fake)\n",
    "            \n",
    "            reapint = netG(netE(real_cuda)).detach()\n",
    "            output_repaint = netD(reapint)\n",
    "            \n",
    "            count += batch_size\n",
    "            hit_fake += torch.sum(output_real > output_fake).cpu()\n",
    "            hit_repaint += torch.sum(output_real > output_repaint).cpu()\n",
    "            \n",
    "            break\n",
    "            \n",
    "    return hit_fake.float()/count, hit_repaint.float()/count"
   ]
  },
  {
   "cell_type": "code",
   "execution_count": 8,
   "id": "8edf00b6",
   "metadata": {},
   "outputs": [],
   "source": [
    "epoch = 0"
   ]
  },
  {
   "cell_type": "code",
   "execution_count": 9,
   "id": "cbcc9586",
   "metadata": {},
   "outputs": [
    {
     "name": "stderr",
     "output_type": "stream",
     "text": [
      "Train Dis: 100%|██████████| 25/25 [00:26<00:00,  1.06s/it]\n",
      "Train Dis: 100%|██████████| 25/25 [00:26<00:00,  1.05s/it]\n",
      "Train Dis: 100%|██████████| 25/25 [00:26<00:00,  1.04s/it]\n",
      "Train Dis:   4%|▍         | 1/25 [00:01<00:31,  1.31s/it]\n"
     ]
    },
    {
     "ename": "KeyboardInterrupt",
     "evalue": "",
     "output_type": "error",
     "traceback": [
      "\u001b[0;31m---------------------------------------------------------------------------\u001b[0m",
      "\u001b[0;31mKeyboardInterrupt\u001b[0m                         Traceback (most recent call last)",
      "\u001b[0;32m<ipython-input-9-0daddce84948>\u001b[0m in \u001b[0;36m<module>\u001b[0;34m\u001b[0m\n\u001b[1;32m      5\u001b[0m \u001b[0;34m\u001b[0m\u001b[0m\n\u001b[1;32m      6\u001b[0m \u001b[0;32mwhile\u001b[0m \u001b[0;32mTrue\u001b[0m \u001b[0;34m:\u001b[0m\u001b[0;34m\u001b[0m\u001b[0;34m\u001b[0m\u001b[0m\n\u001b[0;32m----> 7\u001b[0;31m     \u001b[0;32mfor\u001b[0m \u001b[0mimage\u001b[0m\u001b[0;34m,\u001b[0m \u001b[0mlabel\u001b[0m \u001b[0;32min\u001b[0m \u001b[0mtqdm\u001b[0m\u001b[0;34m.\u001b[0m\u001b[0mtqdm\u001b[0m\u001b[0;34m(\u001b[0m\u001b[0mtrain_loader\u001b[0m\u001b[0;34m,\u001b[0m \u001b[0mdesc\u001b[0m\u001b[0;34m=\u001b[0m\u001b[0;34m'Train Dis'\u001b[0m\u001b[0;34m)\u001b[0m\u001b[0;34m:\u001b[0m\u001b[0;34m\u001b[0m\u001b[0;34m\u001b[0m\u001b[0m\n\u001b[0m\u001b[1;32m      8\u001b[0m         \u001b[0mreal_cuda\u001b[0m \u001b[0;34m=\u001b[0m \u001b[0mimage\u001b[0m\u001b[0;34m.\u001b[0m\u001b[0mto\u001b[0m\u001b[0;34m(\u001b[0m\u001b[0mdevice\u001b[0m\u001b[0;34m)\u001b[0m\u001b[0;34m\u001b[0m\u001b[0;34m\u001b[0m\u001b[0m\n\u001b[1;32m      9\u001b[0m         \u001b[0msma\u001b[0m \u001b[0;34m=\u001b[0m \u001b[0msma_gen\u001b[0m\u001b[0;34m(\u001b[0m\u001b[0mmul_alpha\u001b[0m\u001b[0;34m,\u001b[0m \u001b[0mset_min\u001b[0m\u001b[0;34m=\u001b[0m\u001b[0margs\u001b[0m\u001b[0;34m.\u001b[0m\u001b[0madd_z_min\u001b[0m\u001b[0;34m)\u001b[0m\u001b[0;34m\u001b[0m\u001b[0;34m\u001b[0m\u001b[0m\n",
      "\u001b[0;32m/opt/conda/envs/stylegan2/lib/python3.9/site-packages/tqdm/std.py\u001b[0m in \u001b[0;36m__iter__\u001b[0;34m(self)\u001b[0m\n\u001b[1;32m   1176\u001b[0m \u001b[0;34m\u001b[0m\u001b[0m\n\u001b[1;32m   1177\u001b[0m         \u001b[0;32mtry\u001b[0m\u001b[0;34m:\u001b[0m\u001b[0;34m\u001b[0m\u001b[0;34m\u001b[0m\u001b[0m\n\u001b[0;32m-> 1178\u001b[0;31m             \u001b[0;32mfor\u001b[0m \u001b[0mobj\u001b[0m \u001b[0;32min\u001b[0m \u001b[0miterable\u001b[0m\u001b[0;34m:\u001b[0m\u001b[0;34m\u001b[0m\u001b[0;34m\u001b[0m\u001b[0m\n\u001b[0m\u001b[1;32m   1179\u001b[0m                 \u001b[0;32myield\u001b[0m \u001b[0mobj\u001b[0m\u001b[0;34m\u001b[0m\u001b[0;34m\u001b[0m\u001b[0m\n\u001b[1;32m   1180\u001b[0m                 \u001b[0;31m# Update and possibly print the progressbar.\u001b[0m\u001b[0;34m\u001b[0m\u001b[0;34m\u001b[0m\u001b[0;34m\u001b[0m\u001b[0m\n",
      "\u001b[0;32m/opt/conda/envs/stylegan2/lib/python3.9/site-packages/torch/utils/data/dataloader.py\u001b[0m in \u001b[0;36m__next__\u001b[0;34m(self)\u001b[0m\n\u001b[1;32m    515\u001b[0m             \u001b[0;32mif\u001b[0m \u001b[0mself\u001b[0m\u001b[0;34m.\u001b[0m\u001b[0m_sampler_iter\u001b[0m \u001b[0;32mis\u001b[0m \u001b[0;32mNone\u001b[0m\u001b[0;34m:\u001b[0m\u001b[0;34m\u001b[0m\u001b[0;34m\u001b[0m\u001b[0m\n\u001b[1;32m    516\u001b[0m                 \u001b[0mself\u001b[0m\u001b[0;34m.\u001b[0m\u001b[0m_reset\u001b[0m\u001b[0;34m(\u001b[0m\u001b[0;34m)\u001b[0m\u001b[0;34m\u001b[0m\u001b[0;34m\u001b[0m\u001b[0m\n\u001b[0;32m--> 517\u001b[0;31m             \u001b[0mdata\u001b[0m \u001b[0;34m=\u001b[0m \u001b[0mself\u001b[0m\u001b[0;34m.\u001b[0m\u001b[0m_next_data\u001b[0m\u001b[0;34m(\u001b[0m\u001b[0;34m)\u001b[0m\u001b[0;34m\u001b[0m\u001b[0;34m\u001b[0m\u001b[0m\n\u001b[0m\u001b[1;32m    518\u001b[0m             \u001b[0mself\u001b[0m\u001b[0;34m.\u001b[0m\u001b[0m_num_yielded\u001b[0m \u001b[0;34m+=\u001b[0m \u001b[0;36m1\u001b[0m\u001b[0;34m\u001b[0m\u001b[0;34m\u001b[0m\u001b[0m\n\u001b[1;32m    519\u001b[0m             \u001b[0;32mif\u001b[0m \u001b[0mself\u001b[0m\u001b[0;34m.\u001b[0m\u001b[0m_dataset_kind\u001b[0m \u001b[0;34m==\u001b[0m \u001b[0m_DatasetKind\u001b[0m\u001b[0;34m.\u001b[0m\u001b[0mIterable\u001b[0m \u001b[0;32mand\u001b[0m\u001b[0;31m \u001b[0m\u001b[0;31m\\\u001b[0m\u001b[0;34m\u001b[0m\u001b[0;34m\u001b[0m\u001b[0m\n",
      "\u001b[0;32m/opt/conda/envs/stylegan2/lib/python3.9/site-packages/torch/utils/data/dataloader.py\u001b[0m in \u001b[0;36m_next_data\u001b[0;34m(self)\u001b[0m\n\u001b[1;32m    555\u001b[0m     \u001b[0;32mdef\u001b[0m \u001b[0m_next_data\u001b[0m\u001b[0;34m(\u001b[0m\u001b[0mself\u001b[0m\u001b[0;34m)\u001b[0m\u001b[0;34m:\u001b[0m\u001b[0;34m\u001b[0m\u001b[0;34m\u001b[0m\u001b[0m\n\u001b[1;32m    556\u001b[0m         \u001b[0mindex\u001b[0m \u001b[0;34m=\u001b[0m \u001b[0mself\u001b[0m\u001b[0;34m.\u001b[0m\u001b[0m_next_index\u001b[0m\u001b[0;34m(\u001b[0m\u001b[0;34m)\u001b[0m  \u001b[0;31m# may raise StopIteration\u001b[0m\u001b[0;34m\u001b[0m\u001b[0;34m\u001b[0m\u001b[0m\n\u001b[0;32m--> 557\u001b[0;31m         \u001b[0mdata\u001b[0m \u001b[0;34m=\u001b[0m \u001b[0mself\u001b[0m\u001b[0;34m.\u001b[0m\u001b[0m_dataset_fetcher\u001b[0m\u001b[0;34m.\u001b[0m\u001b[0mfetch\u001b[0m\u001b[0;34m(\u001b[0m\u001b[0mindex\u001b[0m\u001b[0;34m)\u001b[0m  \u001b[0;31m# may raise StopIteration\u001b[0m\u001b[0;34m\u001b[0m\u001b[0;34m\u001b[0m\u001b[0m\n\u001b[0m\u001b[1;32m    558\u001b[0m         \u001b[0;32mif\u001b[0m \u001b[0mself\u001b[0m\u001b[0;34m.\u001b[0m\u001b[0m_pin_memory\u001b[0m\u001b[0;34m:\u001b[0m\u001b[0;34m\u001b[0m\u001b[0;34m\u001b[0m\u001b[0m\n\u001b[1;32m    559\u001b[0m             \u001b[0mdata\u001b[0m \u001b[0;34m=\u001b[0m \u001b[0m_utils\u001b[0m\u001b[0;34m.\u001b[0m\u001b[0mpin_memory\u001b[0m\u001b[0;34m.\u001b[0m\u001b[0mpin_memory\u001b[0m\u001b[0;34m(\u001b[0m\u001b[0mdata\u001b[0m\u001b[0;34m)\u001b[0m\u001b[0;34m\u001b[0m\u001b[0;34m\u001b[0m\u001b[0m\n",
      "\u001b[0;32m/opt/conda/envs/stylegan2/lib/python3.9/site-packages/torch/utils/data/_utils/fetch.py\u001b[0m in \u001b[0;36mfetch\u001b[0;34m(self, possibly_batched_index)\u001b[0m\n\u001b[1;32m     42\u001b[0m     \u001b[0;32mdef\u001b[0m \u001b[0mfetch\u001b[0m\u001b[0;34m(\u001b[0m\u001b[0mself\u001b[0m\u001b[0;34m,\u001b[0m \u001b[0mpossibly_batched_index\u001b[0m\u001b[0;34m)\u001b[0m\u001b[0;34m:\u001b[0m\u001b[0;34m\u001b[0m\u001b[0;34m\u001b[0m\u001b[0m\n\u001b[1;32m     43\u001b[0m         \u001b[0;32mif\u001b[0m \u001b[0mself\u001b[0m\u001b[0;34m.\u001b[0m\u001b[0mauto_collation\u001b[0m\u001b[0;34m:\u001b[0m\u001b[0;34m\u001b[0m\u001b[0;34m\u001b[0m\u001b[0m\n\u001b[0;32m---> 44\u001b[0;31m             \u001b[0mdata\u001b[0m \u001b[0;34m=\u001b[0m \u001b[0;34m[\u001b[0m\u001b[0mself\u001b[0m\u001b[0;34m.\u001b[0m\u001b[0mdataset\u001b[0m\u001b[0;34m[\u001b[0m\u001b[0midx\u001b[0m\u001b[0;34m]\u001b[0m \u001b[0;32mfor\u001b[0m \u001b[0midx\u001b[0m \u001b[0;32min\u001b[0m \u001b[0mpossibly_batched_index\u001b[0m\u001b[0;34m]\u001b[0m\u001b[0;34m\u001b[0m\u001b[0;34m\u001b[0m\u001b[0m\n\u001b[0m\u001b[1;32m     45\u001b[0m         \u001b[0;32melse\u001b[0m\u001b[0;34m:\u001b[0m\u001b[0;34m\u001b[0m\u001b[0;34m\u001b[0m\u001b[0m\n\u001b[1;32m     46\u001b[0m             \u001b[0mdata\u001b[0m \u001b[0;34m=\u001b[0m \u001b[0mself\u001b[0m\u001b[0;34m.\u001b[0m\u001b[0mdataset\u001b[0m\u001b[0;34m[\u001b[0m\u001b[0mpossibly_batched_index\u001b[0m\u001b[0;34m]\u001b[0m\u001b[0;34m\u001b[0m\u001b[0;34m\u001b[0m\u001b[0m\n",
      "\u001b[0;32m/opt/conda/envs/stylegan2/lib/python3.9/site-packages/torch/utils/data/_utils/fetch.py\u001b[0m in \u001b[0;36m<listcomp>\u001b[0;34m(.0)\u001b[0m\n\u001b[1;32m     42\u001b[0m     \u001b[0;32mdef\u001b[0m \u001b[0mfetch\u001b[0m\u001b[0;34m(\u001b[0m\u001b[0mself\u001b[0m\u001b[0;34m,\u001b[0m \u001b[0mpossibly_batched_index\u001b[0m\u001b[0;34m)\u001b[0m\u001b[0;34m:\u001b[0m\u001b[0;34m\u001b[0m\u001b[0;34m\u001b[0m\u001b[0m\n\u001b[1;32m     43\u001b[0m         \u001b[0;32mif\u001b[0m \u001b[0mself\u001b[0m\u001b[0;34m.\u001b[0m\u001b[0mauto_collation\u001b[0m\u001b[0;34m:\u001b[0m\u001b[0;34m\u001b[0m\u001b[0;34m\u001b[0m\u001b[0m\n\u001b[0;32m---> 44\u001b[0;31m             \u001b[0mdata\u001b[0m \u001b[0;34m=\u001b[0m \u001b[0;34m[\u001b[0m\u001b[0mself\u001b[0m\u001b[0;34m.\u001b[0m\u001b[0mdataset\u001b[0m\u001b[0;34m[\u001b[0m\u001b[0midx\u001b[0m\u001b[0;34m]\u001b[0m \u001b[0;32mfor\u001b[0m \u001b[0midx\u001b[0m \u001b[0;32min\u001b[0m \u001b[0mpossibly_batched_index\u001b[0m\u001b[0;34m]\u001b[0m\u001b[0;34m\u001b[0m\u001b[0;34m\u001b[0m\u001b[0m\n\u001b[0m\u001b[1;32m     45\u001b[0m         \u001b[0;32melse\u001b[0m\u001b[0;34m:\u001b[0m\u001b[0;34m\u001b[0m\u001b[0;34m\u001b[0m\u001b[0m\n\u001b[1;32m     46\u001b[0m             \u001b[0mdata\u001b[0m \u001b[0;34m=\u001b[0m \u001b[0mself\u001b[0m\u001b[0;34m.\u001b[0m\u001b[0mdataset\u001b[0m\u001b[0;34m[\u001b[0m\u001b[0mpossibly_batched_index\u001b[0m\u001b[0;34m]\u001b[0m\u001b[0;34m\u001b[0m\u001b[0;34m\u001b[0m\u001b[0m\n",
      "\u001b[0;32m~/.cache/torch/hub/pytorch_vision_v0.9.0/torchvision/datasets/cifar.py\u001b[0m in \u001b[0;36m__getitem__\u001b[0;34m(self, index)\u001b[0m\n\u001b[1;32m    118\u001b[0m \u001b[0;34m\u001b[0m\u001b[0m\n\u001b[1;32m    119\u001b[0m         \u001b[0;32mif\u001b[0m \u001b[0mself\u001b[0m\u001b[0;34m.\u001b[0m\u001b[0mtransform\u001b[0m \u001b[0;32mis\u001b[0m \u001b[0;32mnot\u001b[0m \u001b[0;32mNone\u001b[0m\u001b[0;34m:\u001b[0m\u001b[0;34m\u001b[0m\u001b[0;34m\u001b[0m\u001b[0m\n\u001b[0;32m--> 120\u001b[0;31m             \u001b[0mimg\u001b[0m \u001b[0;34m=\u001b[0m \u001b[0mself\u001b[0m\u001b[0;34m.\u001b[0m\u001b[0mtransform\u001b[0m\u001b[0;34m(\u001b[0m\u001b[0mimg\u001b[0m\u001b[0;34m)\u001b[0m\u001b[0;34m\u001b[0m\u001b[0;34m\u001b[0m\u001b[0m\n\u001b[0m\u001b[1;32m    121\u001b[0m \u001b[0;34m\u001b[0m\u001b[0m\n\u001b[1;32m    122\u001b[0m         \u001b[0;32mif\u001b[0m \u001b[0mself\u001b[0m\u001b[0;34m.\u001b[0m\u001b[0mtarget_transform\u001b[0m \u001b[0;32mis\u001b[0m \u001b[0;32mnot\u001b[0m \u001b[0;32mNone\u001b[0m\u001b[0;34m:\u001b[0m\u001b[0;34m\u001b[0m\u001b[0;34m\u001b[0m\u001b[0m\n",
      "\u001b[0;32m~/.cache/torch/hub/pytorch_vision_v0.9.0/torchvision/transforms/transforms.py\u001b[0m in \u001b[0;36m__call__\u001b[0;34m(self, img)\u001b[0m\n\u001b[1;32m     58\u001b[0m     \u001b[0;32mdef\u001b[0m \u001b[0m__call__\u001b[0m\u001b[0;34m(\u001b[0m\u001b[0mself\u001b[0m\u001b[0;34m,\u001b[0m \u001b[0mimg\u001b[0m\u001b[0;34m)\u001b[0m\u001b[0;34m:\u001b[0m\u001b[0;34m\u001b[0m\u001b[0;34m\u001b[0m\u001b[0m\n\u001b[1;32m     59\u001b[0m         \u001b[0;32mfor\u001b[0m \u001b[0mt\u001b[0m \u001b[0;32min\u001b[0m \u001b[0mself\u001b[0m\u001b[0;34m.\u001b[0m\u001b[0mtransforms\u001b[0m\u001b[0;34m:\u001b[0m\u001b[0;34m\u001b[0m\u001b[0;34m\u001b[0m\u001b[0m\n\u001b[0;32m---> 60\u001b[0;31m             \u001b[0mimg\u001b[0m \u001b[0;34m=\u001b[0m \u001b[0mt\u001b[0m\u001b[0;34m(\u001b[0m\u001b[0mimg\u001b[0m\u001b[0;34m)\u001b[0m\u001b[0;34m\u001b[0m\u001b[0;34m\u001b[0m\u001b[0m\n\u001b[0m\u001b[1;32m     61\u001b[0m         \u001b[0;32mreturn\u001b[0m \u001b[0mimg\u001b[0m\u001b[0;34m\u001b[0m\u001b[0;34m\u001b[0m\u001b[0m\n\u001b[1;32m     62\u001b[0m \u001b[0;34m\u001b[0m\u001b[0m\n",
      "\u001b[0;32m/opt/conda/envs/stylegan2/lib/python3.9/site-packages/torch/nn/modules/module.py\u001b[0m in \u001b[0;36m_call_impl\u001b[0;34m(self, *input, **kwargs)\u001b[0m\n\u001b[1;32m    888\u001b[0m         \u001b[0;32melse\u001b[0m\u001b[0;34m:\u001b[0m\u001b[0;34m\u001b[0m\u001b[0;34m\u001b[0m\u001b[0m\n\u001b[1;32m    889\u001b[0m             \u001b[0mresult\u001b[0m \u001b[0;34m=\u001b[0m \u001b[0mself\u001b[0m\u001b[0;34m.\u001b[0m\u001b[0mforward\u001b[0m\u001b[0;34m(\u001b[0m\u001b[0;34m*\u001b[0m\u001b[0minput\u001b[0m\u001b[0;34m,\u001b[0m \u001b[0;34m**\u001b[0m\u001b[0mkwargs\u001b[0m\u001b[0;34m)\u001b[0m\u001b[0;34m\u001b[0m\u001b[0;34m\u001b[0m\u001b[0m\n\u001b[0;32m--> 890\u001b[0;31m         for hook in itertools.chain(\n\u001b[0m\u001b[1;32m    891\u001b[0m                 \u001b[0m_global_forward_hooks\u001b[0m\u001b[0;34m.\u001b[0m\u001b[0mvalues\u001b[0m\u001b[0;34m(\u001b[0m\u001b[0;34m)\u001b[0m\u001b[0;34m,\u001b[0m\u001b[0;34m\u001b[0m\u001b[0;34m\u001b[0m\u001b[0m\n\u001b[1;32m    892\u001b[0m                 self._forward_hooks.values()):\n",
      "\u001b[0;31mKeyboardInterrupt\u001b[0m: "
     ]
    }
   ],
   "source": [
    "#일단 discriminator를 학습할 건데..\n",
    "#netE의 정보 일단 가져올까?\n",
    "#걍 구별할 수 잇을때까지 학습??\n",
    "\n",
    "\n",
    "while True :\n",
    "    for image, label in tqdm.tqdm(train_loader, desc='Train Dis'):\n",
    "        real_cuda = image.to(device)\n",
    "        sma = sma_gen(mul_alpha, set_min=args.add_z_min)\n",
    "        lossD = wgan_smeg_update_discriminator(netD, netG, netE, optimizerD,\\\n",
    "                                        real_cuda, criterion, nz, sma, args.clip_value)\n",
    "        \n",
    "        \n",
    "    hit_fake_per, hit_repaint_per = percent_dis(train_loader, netD, netG, netE, sma)\n",
    "    matric = {\n",
    "        'lossD_real' : lossD[0],\n",
    "        'lossD_fake' : lossD[1],\n",
    "        'lossD_E(x)' : lossD[2],\n",
    "        'hit_fake_per' : hit_fake_per, \n",
    "        'hit_repaint_per' : hit_repaint_per,\n",
    "        'epoch' : epoch\n",
    "    }\n",
    "    wandb.log(matric)\n",
    "    epoch += 1\n",
    "    "
   ]
  },
  {
   "cell_type": "code",
   "execution_count": null,
   "id": "181064f4",
   "metadata": {},
   "outputs": [],
   "source": []
  },
  {
   "cell_type": "code",
   "execution_count": 10,
   "id": "8385e2dd",
   "metadata": {},
   "outputs": [
    {
     "name": "stderr",
     "output_type": "stream",
     "text": [
      "Train[0/1]: 100%|██████████| 25/25 [00:53<00:00,  2.13s/it]\n"
     ]
    }
   ],
   "source": [
    "i=0\n",
    "epochs=1\n",
    "batch_count=1\n",
    "for image, label in tqdm.tqdm(train_loader, desc='Train[%d/%d]' %(i, epochs)):\n",
    "    batch_count += 1\n",
    "    real_cuda = image.to(device)\n",
    "\n",
    "    sma = sma_gen(mul_alpha, set_min=args.add_z_min)\n",
    "    lossD = wgan_smeg_update_discriminator(netD, netG, netE, optimizerD,\\\n",
    "                                    real_cuda, criterion, nz, sma, args.clip_value)\n",
    "    if i % args.n_critic == 0 : \n",
    "        lossG = wgan_smeg_update_generator(netD, netG, netE, optimizerG, real_cuda, criterion, nz, sma)\n",
    "    sma = sma_gen(mul_alpha, set_min=args.add_z_min)\n",
    "    loss_alpha = wcgan_smeg_update_alpha(netD, netG, netE, optimizerM, real_cuda, criterion, nz, sma)\n",
    "    lossE = wcgna_smeg_update_encoder(netD, netG, netE, optimizerE, real_cuda, mse, nz, sma)\n",
    "    \n",
    "    with torch.no_grad() : \n",
    "        repaint_sample = netG(netE(image.to(device))).cpu()\n",
    "\n",
    "    grid_repaint_img = make_grid_img(repaint_sample[:args.sample_img_num ** 2], nrow=args.sample_img_num)\n",
    "    matric = {'batch' : batch_count,\n",
    "              'sample_repaint' : [wandb.Image(grid_repaint_img, caption=str(i))]}\n",
    "    wandb.log(matric)"
   ]
  },
  {
   "cell_type": "code",
   "execution_count": 11,
   "id": "03478135",
   "metadata": {},
   "outputs": [
    {
     "name": "stderr",
     "output_type": "stream",
     "text": [
      "Train[0/100]: 100%|██████████| 25/25 [00:46<00:00,  1.87s/it]\n",
      "insert fake: 100%|██████████| 25/25 [00:17<00:00,  1.46it/s]\n",
      "ISNet gen info:: 100%|██████████| 782/782 [02:02<00:00,  6.39it/s]\n"
     ]
    },
    {
     "name": "stdout",
     "output_type": "stream",
     "text": [
      "Num real: 10000 Num fake: 10000\n"
     ]
    },
    {
     "name": "stderr",
     "output_type": "stream",
     "text": [
      "Train[1/100]: 100%|██████████| 25/25 [00:38<00:00,  1.54s/it]\n",
      "Train[2/100]: 100%|██████████| 25/25 [00:38<00:00,  1.52s/it]\n",
      "Train[3/100]: 100%|██████████| 25/25 [00:38<00:00,  1.55s/it]\n",
      "Train[4/100]: 100%|██████████| 25/25 [00:39<00:00,  1.58s/it]\n",
      "Train[5/100]: 100%|██████████| 25/25 [00:48<00:00,  1.93s/it]\n",
      "insert fake: 100%|██████████| 25/25 [00:16<00:00,  1.50it/s]\n",
      "ISNet gen info:: 100%|██████████| 782/782 [02:05<00:00,  6.24it/s]\n"
     ]
    },
    {
     "name": "stdout",
     "output_type": "stream",
     "text": [
      "Num real: 10000 Num fake: 10000\n"
     ]
    },
    {
     "name": "stderr",
     "output_type": "stream",
     "text": [
      "Train[6/100]: 100%|██████████| 25/25 [00:41<00:00,  1.65s/it]\n",
      "Train[7/100]: 100%|██████████| 25/25 [00:39<00:00,  1.57s/it]\n",
      "Train[8/100]: 100%|██████████| 25/25 [00:39<00:00,  1.57s/it]\n",
      "Train[9/100]: 100%|██████████| 25/25 [00:38<00:00,  1.54s/it]\n",
      "Train[10/100]: 100%|██████████| 25/25 [00:48<00:00,  1.93s/it]\n",
      "insert fake: 100%|██████████| 25/25 [00:16<00:00,  1.54it/s]\n",
      "ISNet gen info:: 100%|██████████| 782/782 [02:03<00:00,  6.35it/s]\n"
     ]
    },
    {
     "name": "stdout",
     "output_type": "stream",
     "text": [
      "Num real: 10000 Num fake: 10000\n"
     ]
    },
    {
     "name": "stderr",
     "output_type": "stream",
     "text": [
      "Train[11/100]: 100%|██████████| 25/25 [00:41<00:00,  1.64s/it]\n",
      "Train[12/100]: 100%|██████████| 25/25 [00:38<00:00,  1.55s/it]\n",
      "Train[13/100]: 100%|██████████| 25/25 [00:38<00:00,  1.55s/it]\n",
      "Train[14/100]: 100%|██████████| 25/25 [00:39<00:00,  1.58s/it]\n",
      "Train[15/100]: 100%|██████████| 25/25 [00:46<00:00,  1.88s/it]\n",
      "insert fake: 100%|██████████| 25/25 [00:16<00:00,  1.53it/s]\n",
      "ISNet gen info:: 100%|██████████| 782/782 [02:03<00:00,  6.35it/s]\n"
     ]
    },
    {
     "name": "stdout",
     "output_type": "stream",
     "text": [
      "Num real: 10000 Num fake: 10000\n"
     ]
    },
    {
     "name": "stderr",
     "output_type": "stream",
     "text": [
      "Train[16/100]: 100%|██████████| 25/25 [00:40<00:00,  1.61s/it]\n",
      "Train[17/100]: 100%|██████████| 25/25 [00:40<00:00,  1.60s/it]\n",
      "Train[18/100]: 100%|██████████| 25/25 [00:39<00:00,  1.56s/it]\n",
      "Train[19/100]: 100%|██████████| 25/25 [00:39<00:00,  1.56s/it]\n",
      "Train[20/100]: 100%|██████████| 25/25 [00:47<00:00,  1.88s/it]\n",
      "insert fake: 100%|██████████| 25/25 [00:16<00:00,  1.53it/s]\n",
      "ISNet gen info:: 100%|██████████| 782/782 [02:02<00:00,  6.38it/s]\n"
     ]
    },
    {
     "name": "stdout",
     "output_type": "stream",
     "text": [
      "Num real: 10000 Num fake: 10000\n"
     ]
    },
    {
     "name": "stderr",
     "output_type": "stream",
     "text": [
      "Train[21/100]: 100%|██████████| 25/25 [00:39<00:00,  1.57s/it]\n",
      "Train[22/100]: 100%|██████████| 25/25 [00:38<00:00,  1.54s/it]\n",
      "Train[23/100]: 100%|██████████| 25/25 [00:38<00:00,  1.55s/it]\n",
      "Train[24/100]: 100%|██████████| 25/25 [00:38<00:00,  1.56s/it]\n",
      "Train[25/100]: 100%|██████████| 25/25 [00:45<00:00,  1.83s/it]\n",
      "insert fake: 100%|██████████| 25/25 [00:16<00:00,  1.53it/s]\n",
      "ISNet gen info:: 100%|██████████| 782/782 [01:59<00:00,  6.53it/s]\n"
     ]
    },
    {
     "name": "stdout",
     "output_type": "stream",
     "text": [
      "Num real: 10000 Num fake: 10000\n"
     ]
    },
    {
     "name": "stderr",
     "output_type": "stream",
     "text": [
      "Train[26/100]: 100%|██████████| 25/25 [00:38<00:00,  1.56s/it]\n",
      "Train[27/100]: 100%|██████████| 25/25 [00:39<00:00,  1.58s/it]\n",
      "Train[28/100]: 100%|██████████| 25/25 [00:39<00:00,  1.58s/it]\n",
      "Train[29/100]: 100%|██████████| 25/25 [00:39<00:00,  1.58s/it]\n",
      "Train[30/100]: 100%|██████████| 25/25 [00:46<00:00,  1.84s/it]\n",
      "insert fake: 100%|██████████| 25/25 [00:16<00:00,  1.53it/s]\n",
      "ISNet gen info:: 100%|██████████| 782/782 [02:05<00:00,  6.24it/s]\n"
     ]
    },
    {
     "name": "stdout",
     "output_type": "stream",
     "text": [
      "Num real: 10000 Num fake: 10000\n"
     ]
    },
    {
     "name": "stderr",
     "output_type": "stream",
     "text": [
      "Train[31/100]: 100%|██████████| 25/25 [00:38<00:00,  1.53s/it]\n",
      "Train[32/100]: 100%|██████████| 25/25 [00:38<00:00,  1.53s/it]\n",
      "Train[33/100]: 100%|██████████| 25/25 [00:38<00:00,  1.54s/it]\n",
      "Train[34/100]: 100%|██████████| 25/25 [00:38<00:00,  1.55s/it]\n",
      "Train[35/100]: 100%|██████████| 25/25 [00:46<00:00,  1.85s/it]\n",
      "insert fake: 100%|██████████| 25/25 [00:16<00:00,  1.55it/s]\n",
      "ISNet gen info:: 100%|██████████| 782/782 [02:00<00:00,  6.48it/s]\n"
     ]
    },
    {
     "name": "stdout",
     "output_type": "stream",
     "text": [
      "Num real: 10000 Num fake: 10000\n"
     ]
    },
    {
     "name": "stderr",
     "output_type": "stream",
     "text": [
      "Train[36/100]: 100%|██████████| 25/25 [00:39<00:00,  1.59s/it]\n",
      "Train[37/100]: 100%|██████████| 25/25 [00:39<00:00,  1.56s/it]\n",
      "Train[38/100]: 100%|██████████| 25/25 [00:38<00:00,  1.53s/it]\n",
      "Train[39/100]: 100%|██████████| 25/25 [00:39<00:00,  1.58s/it]\n",
      "Train[40/100]: 100%|██████████| 25/25 [00:45<00:00,  1.83s/it]\n",
      "insert fake: 100%|██████████| 25/25 [00:16<00:00,  1.49it/s]\n",
      "ISNet gen info:: 100%|██████████| 782/782 [02:08<00:00,  6.08it/s]\n"
     ]
    },
    {
     "name": "stdout",
     "output_type": "stream",
     "text": [
      "Num real: 10000 Num fake: 10000\n"
     ]
    },
    {
     "name": "stderr",
     "output_type": "stream",
     "text": [
      "Train[41/100]: 100%|██████████| 25/25 [00:38<00:00,  1.55s/it]\n",
      "Train[42/100]: 100%|██████████| 25/25 [00:38<00:00,  1.56s/it]\n",
      "Train[43/100]: 100%|██████████| 25/25 [00:38<00:00,  1.54s/it]\n",
      "Train[44/100]: 100%|██████████| 25/25 [00:39<00:00,  1.58s/it]\n",
      "Train[45/100]: 100%|██████████| 25/25 [00:45<00:00,  1.83s/it]\n",
      "insert fake: 100%|██████████| 25/25 [00:16<00:00,  1.54it/s]\n",
      "ISNet gen info:: 100%|██████████| 782/782 [02:01<00:00,  6.44it/s]\n"
     ]
    },
    {
     "name": "stdout",
     "output_type": "stream",
     "text": [
      "Num real: 10000 Num fake: 10000\n"
     ]
    },
    {
     "name": "stderr",
     "output_type": "stream",
     "text": [
      "Train[46/100]: 100%|██████████| 25/25 [00:39<00:00,  1.58s/it]\n",
      "Train[47/100]: 100%|██████████| 25/25 [00:38<00:00,  1.54s/it]\n",
      "Train[48/100]: 100%|██████████| 25/25 [00:38<00:00,  1.56s/it]\n",
      "Train[49/100]: 100%|██████████| 25/25 [00:39<00:00,  1.58s/it]\n",
      "Train[50/100]: 100%|██████████| 25/25 [00:46<00:00,  1.88s/it]\n",
      "insert fake: 100%|██████████| 25/25 [00:16<00:00,  1.54it/s]\n",
      "ISNet gen info:: 100%|██████████| 782/782 [02:01<00:00,  6.42it/s]\n"
     ]
    },
    {
     "name": "stdout",
     "output_type": "stream",
     "text": [
      "Num real: 10000 Num fake: 10000\n"
     ]
    },
    {
     "name": "stderr",
     "output_type": "stream",
     "text": [
      "Train[51/100]: 100%|██████████| 25/25 [00:38<00:00,  1.54s/it]\n",
      "Train[52/100]: 100%|██████████| 25/25 [00:39<00:00,  1.58s/it]\n",
      "Train[53/100]: 100%|██████████| 25/25 [00:38<00:00,  1.55s/it]\n",
      "Train[54/100]: 100%|██████████| 25/25 [00:39<00:00,  1.57s/it]\n",
      "Train[55/100]: 100%|██████████| 25/25 [00:45<00:00,  1.80s/it]\n",
      "insert fake: 100%|██████████| 25/25 [00:16<00:00,  1.54it/s]\n",
      "ISNet gen info:: 100%|██████████| 782/782 [02:02<00:00,  6.41it/s]\n"
     ]
    },
    {
     "name": "stdout",
     "output_type": "stream",
     "text": [
      "Num real: 10000 Num fake: 10000\n"
     ]
    },
    {
     "name": "stderr",
     "output_type": "stream",
     "text": [
      "Train[56/100]: 100%|██████████| 25/25 [00:39<00:00,  1.57s/it]\n",
      "Train[57/100]: 100%|██████████| 25/25 [00:39<00:00,  1.57s/it]\n",
      "Train[58/100]: 100%|██████████| 25/25 [00:39<00:00,  1.57s/it]\n",
      "Train[59/100]: 100%|██████████| 25/25 [00:39<00:00,  1.57s/it]\n",
      "Train[60/100]: 100%|██████████| 25/25 [00:46<00:00,  1.87s/it]\n",
      "insert fake: 100%|██████████| 25/25 [00:16<00:00,  1.53it/s]\n",
      "ISNet gen info:: 100%|██████████| 782/782 [02:02<00:00,  6.38it/s]\n"
     ]
    },
    {
     "name": "stdout",
     "output_type": "stream",
     "text": [
      "Num real: 10000 Num fake: 10000\n"
     ]
    },
    {
     "name": "stderr",
     "output_type": "stream",
     "text": [
      "Train[61/100]: 100%|██████████| 25/25 [00:38<00:00,  1.52s/it]\n",
      "Train[62/100]: 100%|██████████| 25/25 [00:38<00:00,  1.56s/it]\n",
      "Train[63/100]: 100%|██████████| 25/25 [00:38<00:00,  1.56s/it]\n",
      "Train[64/100]: 100%|██████████| 25/25 [00:39<00:00,  1.56s/it]\n",
      "Train[65/100]: 100%|██████████| 25/25 [00:45<00:00,  1.83s/it]\n",
      "insert fake: 100%|██████████| 25/25 [00:16<00:00,  1.52it/s]\n",
      "ISNet gen info:: 100%|██████████| 782/782 [02:10<00:00,  6.00it/s]\n"
     ]
    },
    {
     "name": "stdout",
     "output_type": "stream",
     "text": [
      "Num real: 10000 Num fake: 10000\n"
     ]
    },
    {
     "name": "stderr",
     "output_type": "stream",
     "text": [
      "Train[66/100]: 100%|██████████| 25/25 [00:39<00:00,  1.56s/it]\n",
      "Train[67/100]: 100%|██████████| 25/25 [00:38<00:00,  1.53s/it]\n",
      "Train[68/100]: 100%|██████████| 25/25 [00:38<00:00,  1.54s/it]\n",
      "Train[69/100]: 100%|██████████| 25/25 [00:38<00:00,  1.53s/it]\n",
      "Train[70/100]: 100%|██████████| 25/25 [00:46<00:00,  1.84s/it]\n",
      "insert fake: 100%|██████████| 25/25 [00:16<00:00,  1.52it/s]\n",
      "ISNet gen info:: 100%|██████████| 782/782 [02:02<00:00,  6.41it/s]\n"
     ]
    },
    {
     "name": "stdout",
     "output_type": "stream",
     "text": [
      "Num real: 10000 Num fake: 10000\n"
     ]
    },
    {
     "name": "stderr",
     "output_type": "stream",
     "text": [
      "Train[71/100]: 100%|██████████| 25/25 [00:38<00:00,  1.55s/it]\n",
      "Train[72/100]: 100%|██████████| 25/25 [00:39<00:00,  1.56s/it]\n",
      "Train[73/100]: 100%|██████████| 25/25 [00:38<00:00,  1.52s/it]\n",
      "Train[74/100]: 100%|██████████| 25/25 [00:38<00:00,  1.54s/it]\n",
      "Train[75/100]: 100%|██████████| 25/25 [00:45<00:00,  1.83s/it]\n",
      "insert fake: 100%|██████████| 25/25 [00:16<00:00,  1.55it/s]\n",
      "ISNet gen info:: 100%|██████████| 782/782 [02:02<00:00,  6.37it/s]\n"
     ]
    },
    {
     "name": "stdout",
     "output_type": "stream",
     "text": [
      "Num real: 10000 Num fake: 10000\n"
     ]
    },
    {
     "name": "stderr",
     "output_type": "stream",
     "text": [
      "Train[76/100]: 100%|██████████| 25/25 [00:38<00:00,  1.53s/it]\n",
      "Train[77/100]: 100%|██████████| 25/25 [00:38<00:00,  1.54s/it]\n",
      "Train[78/100]: 100%|██████████| 25/25 [00:39<00:00,  1.56s/it]\n",
      "Train[79/100]: 100%|██████████| 25/25 [00:38<00:00,  1.55s/it]\n",
      "Train[80/100]: 100%|██████████| 25/25 [00:45<00:00,  1.82s/it]\n",
      "insert fake: 100%|██████████| 25/25 [00:16<00:00,  1.53it/s]\n",
      "ISNet gen info:: 100%|██████████| 782/782 [02:07<00:00,  6.14it/s]\n"
     ]
    },
    {
     "name": "stdout",
     "output_type": "stream",
     "text": [
      "Num real: 10000 Num fake: 10000\n"
     ]
    },
    {
     "name": "stderr",
     "output_type": "stream",
     "text": [
      "Train[81/100]: 100%|██████████| 25/25 [00:38<00:00,  1.54s/it]\n",
      "Train[82/100]: 100%|██████████| 25/25 [00:38<00:00,  1.53s/it]\n",
      "Train[83/100]: 100%|██████████| 25/25 [00:38<00:00,  1.55s/it]\n",
      "Train[84/100]: 100%|██████████| 25/25 [00:38<00:00,  1.54s/it]\n",
      "Train[85/100]: 100%|██████████| 25/25 [00:46<00:00,  1.88s/it]\n",
      "insert fake: 100%|██████████| 25/25 [00:16<00:00,  1.54it/s]\n",
      "ISNet gen info:: 100%|██████████| 782/782 [02:00<00:00,  6.50it/s]\n"
     ]
    },
    {
     "name": "stdout",
     "output_type": "stream",
     "text": [
      "Num real: 10000 Num fake: 10000\n"
     ]
    },
    {
     "name": "stderr",
     "output_type": "stream",
     "text": [
      "Train[86/100]: 100%|██████████| 25/25 [00:38<00:00,  1.54s/it]\n",
      "Train[87/100]: 100%|██████████| 25/25 [00:38<00:00,  1.55s/it]\n",
      "Train[88/100]: 100%|██████████| 25/25 [00:38<00:00,  1.55s/it]\n",
      "Train[89/100]: 100%|██████████| 25/25 [00:39<00:00,  1.57s/it]\n",
      "Train[90/100]: 100%|██████████| 25/25 [00:46<00:00,  1.86s/it]\n",
      "insert fake: 100%|██████████| 25/25 [00:16<00:00,  1.52it/s]\n",
      "ISNet gen info:: 100%|██████████| 782/782 [02:02<00:00,  6.41it/s]\n"
     ]
    },
    {
     "name": "stdout",
     "output_type": "stream",
     "text": [
      "Num real: 10000 Num fake: 10000\n"
     ]
    },
    {
     "name": "stderr",
     "output_type": "stream",
     "text": [
      "Train[91/100]: 100%|██████████| 25/25 [00:39<00:00,  1.58s/it]\n",
      "Train[92/100]: 100%|██████████| 25/25 [00:38<00:00,  1.54s/it]\n",
      "Train[93/100]: 100%|██████████| 25/25 [00:38<00:00,  1.54s/it]\n",
      "Train[94/100]: 100%|██████████| 25/25 [00:38<00:00,  1.55s/it]\n",
      "Train[95/100]: 100%|██████████| 25/25 [00:44<00:00,  1.78s/it]\n",
      "insert fake: 100%|██████████| 25/25 [00:16<00:00,  1.53it/s]\n",
      "ISNet gen info:: 100%|██████████| 782/782 [02:02<00:00,  6.39it/s]\n"
     ]
    },
    {
     "name": "stdout",
     "output_type": "stream",
     "text": [
      "Num real: 10000 Num fake: 10000\n"
     ]
    },
    {
     "name": "stderr",
     "output_type": "stream",
     "text": [
      "Train[96/100]: 100%|██████████| 25/25 [00:38<00:00,  1.54s/it]\n",
      "Train[97/100]: 100%|██████████| 25/25 [00:38<00:00,  1.55s/it]\n",
      "Train[98/100]: 100%|██████████| 25/25 [00:38<00:00,  1.53s/it]\n",
      "Train[99/100]: 100%|██████████| 25/25 [00:38<00:00,  1.52s/it]\n"
     ]
    }
   ],
   "source": [
    "epochs = 100\n",
    "for i in range(0, epochs):\n",
    "    batch_count = 0\n",
    "\n",
    "    lossD_list = []\n",
    "    lossG_list = []\n",
    "\n",
    "    for image, label in tqdm.tqdm(train_loader, desc='Train[%d/%d]' %(i, epochs)):\n",
    "        batch_count += 1\n",
    "        real_cuda = image.to(device)\n",
    "\n",
    "        if basemodel == 'dcgan' :  \n",
    "            if smeg_gan : \n",
    "                sma = torch.sigmoid(mul_alpha)\n",
    "                lossD = dcgan_smeg_update_discriminator(netD, netG, netE, optimizerD,\\\n",
    "                                            real_cuda, criterion, nz, sigmoid_mul_alpha=sma)\n",
    "                lossG = dcgan_smeg_update_generator(netD, netG, netE, optimizerG, real_cuda, criterion, nz, sma)\n",
    "                sma = torch.sigmoid(mul_alpha)\n",
    "                loss_alpha = dcgan_smeg_update_alpha(netD, netG, netE, optimizerM, real_cuda, criterion, nz, sma)\n",
    "                lossE = dcgna_smeg_update_encoder(netE, netG, real_cuda, optimizerE, mse, nz)\n",
    "            else : \n",
    "                lossD = dcgan_update_discriminator(netD, netG, netE, optimizerD,\\\n",
    "                                                real_cuda, criterion, nz)\n",
    "                lossG = dcgan_update_generator(netD, netG, netE, optimizerG, real_cuda, criterion, nz)\n",
    "        elif basemodel == 'wgan' : \n",
    "            if smeg_gan : \n",
    "                sma = sma_gen(mul_alpha, set_min=args.add_z_min)\n",
    "                lossD = wgan_smeg_update_discriminator(netD, netG, netE, optimizerD,\\\n",
    "                                                real_cuda, criterion, nz, sma, args.clip_value)\n",
    "                if i % args.n_critic == 0 : \n",
    "                    lossG = wgan_smeg_update_generator(netD, netG, netE, optimizerG, real_cuda, criterion, nz, sma)\n",
    "                sma = sma_gen(mul_alpha, set_min=args.add_z_min)\n",
    "                loss_alpha = wcgan_smeg_update_alpha(netD, netG, netE, optimizerM, real_cuda, criterion, nz, sma)\n",
    "                lossE = wcgna_smeg_update_encoder(netD, netG, netE, optimizerE, real_cuda, mse, nz, sma)\n",
    "            else : \n",
    "                lossD = wgan_update_discriminator(netD, netG, netE, optimizerD,\\\n",
    "                                                real_cuda, criterion, nz, args.clip_value)\n",
    "                if i % args.n_critic == 0 : \n",
    "                    lossG = wgan_update_generator(netD, netG, netE, optimizerG, real_cuda, criterion, nz)\n",
    "\n",
    "        lossD_list.append(lossD)\n",
    "        lossG_list.append(lossG)           \n",
    "\n",
    "\n",
    "\n",
    "        '''\n",
    "        elif basemodel == 'lsgan' :\n",
    "            lsgan_smeg_update_discriminator()\n",
    "            lsgan_smeg_update_generator()\n",
    "\n",
    "        '''\n",
    "\n",
    "        if args.run_test : break\n",
    "\n",
    "    loss = {'lossD':lossD, 'lossG':lossG, 'loss_alpha':loss_alpha, 'lossE':lossE}\n",
    "    wandb_update(wandb, args, i, inception_model_score, netG, netE, netD, train_loader, nz, device, sma, loss)"
   ]
  },
  {
   "cell_type": "code",
   "execution_count": null,
   "id": "251e7d97",
   "metadata": {},
   "outputs": [],
   "source": []
  }
 ],
 "metadata": {
  "kernelspec": {
   "display_name": "stylegan2",
   "language": "python",
   "name": "stylegan2"
  },
  "language_info": {
   "codemirror_mode": {
    "name": "ipython",
    "version": 3
   },
   "file_extension": ".py",
   "mimetype": "text/x-python",
   "name": "python",
   "nbconvert_exporter": "python",
   "pygments_lexer": "ipython3",
   "version": "3.9.5"
  }
 },
 "nbformat": 4,
 "nbformat_minor": 5
}
